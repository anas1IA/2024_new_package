{
  "nbformat": 4,
  "nbformat_minor": 0,
  "metadata": {
    "colab": {
      "provenance": [],
      "authorship_tag": "ABX9TyNqFaE/zf4ndHsM3A3OxznY",
      "include_colab_link": true
    },
    "kernelspec": {
      "name": "python3",
      "display_name": "Python 3"
    },
    "language_info": {
      "name": "python"
    }
  },
  "cells": [
    {
      "cell_type": "markdown",
      "metadata": {
        "id": "view-in-github",
        "colab_type": "text"
      },
      "source": [
        "<a href=\"https://colab.research.google.com/github/anas1IA/2024_new_package/blob/main/TP_TD_theorie_de_jeux.ipynb\" target=\"_parent\"><img src=\"https://colab.research.google.com/assets/colab-badge.svg\" alt=\"Open In Colab\"/></a>"
      ]
    },
    {
      "cell_type": "markdown",
      "source": [
        "##EXERCICE 1\n",
        "\n",
        "1. Pour représenter le jeu, imaginez une grille où chaque joueur choisit de tourner ou de garder sa direction. Les nombres dans la grille montrent les gains pour chaque choix :\n",
        "\n",
        "   ```\n",
        "           | Garder   | Tourner\n",
        "   -----------------------------\n",
        "   Garder  |   0,0    |   8,1\n",
        "   -----------------------------\n",
        "   Tourner |   1,8    |   5,5\n",
        "   ```\n",
        "\n",
        "2. Aucun des joueurs n'a une stratégie toujours meilleure que les autres.\n",
        "\n",
        "3. Comme aucune stratégie n'est toujours la meilleure, il n'y a pas de choix clair pour les joueurs.\n",
        "\n",
        "4. Comme aucun choix n'est clairement mauvais, il n'y a pas de choix à éliminer.\n",
        "\n",
        "5. Les meilleures stratégies prudentes pour les deux joueurs sont de tourner. Cela donne à chacun un gain de 5.\n",
        "\n",
        "6. Les équilibres de Nash sont les choix où aucun joueur n'a intérêt à changer. Ici, ce sont (1,8) et (8,1).\n",
        "\n",
        "7. Il n'y a pas de solution claire où les joueurs coopèrent pour obtenir le meilleur résultat pour tous les deux.\n"
      ],
      "metadata": {
        "id": "k0myZC3uTunF"
      }
    },
    {
      "cell_type": "markdown",
      "source": [
        "##EXERCIE 2\n",
        "Exercice 2:\n",
        "1. Pour représenter le jeu, imaginez une grille où le mari (M) et la femme (F) choisissent entre regarder un match de foot ou un film. Les nombres dans la grille montrent les gains pour chaque choix :\n",
        "\n",
        "   ```\n",
        "           | Foot     | Film\n",
        "   -----------------------------\n",
        "   Foot     |   2,1    |   0,0\n",
        "   -----------------------------\n",
        "   Film     |   0,0    |   1,2\n",
        "   ```\n",
        "\n",
        "2. Aucun des joueurs n'a une stratégie toujours meilleure que les autres.\n",
        "\n",
        "3. Comme aucun des joueurs n'a d'avantage clair, il n'y a pas d'équilibre en stratégie dominante.\n",
        "\n",
        "4. Comme aucun choix n'est clairement mauvais, il n'y a pas d'élimination de stratégie dominée pour atteindre un équilibre.\n",
        "\n",
        "5. Les équilibres en stratégie prudente sont lorsque les deux choisissent un choix différent, soit (Film, Foot) ou (Foot, Film).\n",
        "\n",
        "6. Oui, ce jeu admet deux équilibres de Nash en stratégie pure : (2,1) et (1,2). Dans ces deux cas, aucun des joueurs n'a intérêt à changer de stratégie étant donné le choix de l'autre.\n",
        "\n",
        "7. Il n'y a pas de solution claire où les joueurs coopèrent pour obtenir le meilleur résultat pour tous les deux.\n"
      ],
      "metadata": {
        "id": "DSRt6YEmVMMJ"
      }
    },
    {
      "cell_type": "markdown",
      "source": [
        "##EXERCICE 3"
      ],
      "metadata": {
        "id": "TczaEkf8WN38"
      }
    },
    {
      "cell_type": "code",
      "source": [
        "import numpy as np\n",
        "\n",
        "class JeuStrategique:\n",
        "\n",
        "    def dominant_strategy(matrix):\n",
        "        num_strategies = matrix.shape[0]\n",
        "        for i in range(num_strategies):\n",
        "            if all((matrix[i, :] >= matrix[j, :]).all() for j in range(num_strategies) if i != j):\n",
        "                return i\n",
        "        return None\n",
        "\n",
        "\n",
        "    def nash_equilibrium(matrix1, matrix2):\n",
        "        equilibria = []\n",
        "        num_strategies = matrix1.shape[0]\n",
        "        for i in range(num_strategies):\n",
        "            for j in range(num_strategies):\n",
        "                if matrix1[i, j] >= max(matrix1[i, :]) and matrix2[i, j] >= max(matrix2[:, j]):\n",
        "                    equilibria.append((i, j))\n",
        "        return equilibria\n",
        "\n",
        "\n",
        "    def max_min_strategy(matrix):\n",
        "        max_values = matrix.max(axis=1)\n",
        "        return matrix[np.argmin(max_values),1]\n",
        "\n",
        "\n",
        "    def equilibrium_dominant_strategy(matrix1, matrix2):\n",
        "        dom_strategy_1 = JeuStrategique.dominant_strategy(matrix1)\n",
        "        dom_strategy_2 = JeuStrategique.dominant_strategy(matrix2)\n",
        "        if dom_strategy_1 is not None and dom_strategy_2 is not None:\n",
        "            return (dom_strategy_1, dom_strategy_2) in JeuStrategique.nash_equilibrium(matrix1, matrix2)\n",
        "        return False\n",
        "\n",
        "    def analyze_game(matrix1, matrix2):\n",
        "        print(\"Dominant strategy for player 1: \", JeuStrategique.dominant_strategy(matrix1))\n",
        "        print(\"Dominant strategy for player 2: \", JeuStrategique.dominant_strategy(matrix2))\n",
        "        print(\"Equilibrium in dominant strategies: \", JeuStrategique.equilibrium_dominant_strategy(matrix1, matrix2))\n",
        "        print(\"Maximin(Prudent) strategy for player 1: \", JeuStrategique.max_min_strategy(matrix1))\n",
        "        print(\"Maximin(Prudent) strategy for player 2: \", JeuStrategique.max_min_strategy(matrix2))\n",
        "        print(\"Nash equilibrium in pure strategies: \", JeuStrategique.nash_equilibrium(matrix1, matrix2))\n",
        "\n",
        "\n"
      ],
      "metadata": {
        "id": "9ZTmG_dnOHZy"
      },
      "execution_count": 54,
      "outputs": []
    },
    {
      "cell_type": "code",
      "source": [
        "# Testing\n",
        "Player1 = np.array([[2,0], [0,1]])\n",
        "Player2 = np.array([[1,0], [0,2]])\n",
        "JeuStrategique.analyze_game(Player1, Player2)"
      ],
      "metadata": {
        "colab": {
          "base_uri": "https://localhost:8080/",
          "height": 0
        },
        "id": "IlLqdsVFO_Cj",
        "outputId": "8fb34819-6188-4624-8daa-30d8ec01c915"
      },
      "execution_count": 56,
      "outputs": [
        {
          "output_type": "stream",
          "name": "stdout",
          "text": [
            "Dominant strategy for player 1:  None\n",
            "Dominant strategy for player 2:  None\n",
            "Equilibrium in dominant strategies:  False\n",
            "Maximin(Prudent) strategy for player 1:  1\n",
            "Maximin(Prudent) strategy for player 2:  0\n",
            "Nash equilibrium in pure strategies:  [(0, 0), (1, 1)]\n"
          ]
        }
      ]
    }
  ]
}