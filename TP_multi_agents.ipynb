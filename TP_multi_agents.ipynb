{
  "nbformat": 4,
  "nbformat_minor": 0,
  "metadata": {
    "colab": {
      "provenance": [],
      "authorship_tag": "ABX9TyMf37FV3I+Dg4iDJNHZtMQ0",
      "include_colab_link": true
    },
    "kernelspec": {
      "name": "python3",
      "display_name": "Python 3"
    },
    "language_info": {
      "name": "python"
    }
  },
  "cells": [
    {
      "cell_type": "markdown",
      "metadata": {
        "id": "view-in-github",
        "colab_type": "text"
      },
      "source": [
        "<a href=\"https://colab.research.google.com/github/anas1IA/2024_new_package/blob/main/TP_multi_agents.ipynb\" target=\"_parent\"><img src=\"https://colab.research.google.com/assets/colab-badge.svg\" alt=\"Open In Colab\"/></a>"
      ]
    },
    {
      "cell_type": "code",
      "source": [
        "class Agent:\n",
        "    def __init__(self, agent_id, domain):\n",
        "        self.agent_id = agent_id\n",
        "        self.domain = domain\n",
        "        self.agent_view = {}\n",
        "        self.current_value = None\n",
        "        self.outgoing_links = []\n",
        "        self.incoming_links = []\n",
        "        self.constraint_list = []\n",
        "\n",
        "    def receive_message(self, message):\n",
        "        if message[0] == \"ok?\":\n",
        "            self.add_to_agent_view(message[1])\n",
        "            self.check_agent_view()\n",
        "        elif message[0] == \"nogood!\":\n",
        "            self.handle_nogood(message[1], message[2])\n",
        "        elif message[0] == \"add_neighbor\":\n",
        "            self.add_neighbor(message[1])\n",
        "\n",
        "    def add_to_agent_view(self, value):\n",
        "        self.agent_view[value[0]] = value[1]\n",
        "\n",
        "    def check_agent_view(self):\n",
        "        if self.agent_view and self.current_value is not None and self.agent_view != self.current_value:\n",
        "            consistent_values = [d for d in self.domain if self.is_consistent(d)]\n",
        "            if not consistent_values:\n",
        "                self.backtrack()\n",
        "            else:\n",
        "                selected_value = consistent_values[0]\n",
        "                self.current_value = selected_value\n",
        "                for link in self.outgoing_links:\n",
        "                    link.send_message((\"ok?\", (self.agent_id, selected_value)))\n",
        "\n",
        "    def is_consistent(self, value):\n",
        "        for var, val in self.agent_view.items():\n",
        "            if var == self.agent_id:  # Skip self-comparison\n",
        "                continue\n",
        "            if value == val:\n",
        "                return False\n",
        "            if (self.agent_id, '!=', var) in constraints_dict.get(self.agent_id, []):\n",
        "                if val == value:\n",
        "                    return False\n",
        "        return True\n",
        "\n",
        "    def backtrack(self):\n",
        "        nogood = self.generate_nogood()\n",
        "        if nogood:\n",
        "            self.broadcast_nogood(nogood)\n",
        "            self.terminate()\n",
        "        else:\n",
        "            inconsistent_subset = self.find_inconsistent_subset()\n",
        "            if inconsistent_subset:\n",
        "                x, d = inconsistent_subset[0]\n",
        "                self.remove_from_agent_view(x)\n",
        "                for link in self.outgoing_links:\n",
        "                    link.send_message((\"nogood!\", (x, inconsistent_subset)))\n",
        "                self.add_to_constraint_list(inconsistent_subset)\n",
        "                self.check_agent_view()\n",
        "\n",
        "    def generate_nogood(self):\n",
        "        # Logic to generate a nogood\n",
        "        pass\n",
        "\n",
        "    def broadcast_nogood(self, nogood):\n",
        "        # Logic to broadcast nogood to neighbors\n",
        "        pass\n",
        "\n",
        "    def terminate(self):\n",
        "        # Logic to terminate and broadcast no solution\n",
        "        pass\n",
        "\n",
        "    def find_inconsistent_subset(self):\n",
        "        # Logic to find inconsistent subset in agent_view\n",
        "        pass\n",
        "\n",
        "    def remove_from_agent_view(self, agent_id):\n",
        "        del self.agent_view[agent_id]\n",
        "\n",
        "    def add_to_constraint_list(self, nogood):\n",
        "        self.constraint_list.append(nogood)\n",
        "\n",
        "    def handle_nogood(self, x, nogood):\n",
        "        if x not in self.incoming_links:\n",
        "            self.incoming_links.append(x)\n",
        "            # Ask x to add self as neighbor\n",
        "            for link in self.outgoing_links:\n",
        "                link.send_message((\"add_neighbor\", self.agent_id))\n",
        "\n",
        "    def add_neighbor(self, agent_id):\n",
        "        # Add agent_id to outgoing_links if not already present\n",
        "        if agent_id not in [link.receiver.agent_id for link in self.outgoing_links]:\n",
        "            self.outgoing_links.append(Link(self, agents[agent_id]))\n",
        "\n",
        "\n"
      ],
      "metadata": {
        "id": "3EL6rIY5mtG8"
      },
      "execution_count": 21,
      "outputs": []
    },
    {
      "cell_type": "code",
      "source": [
        "class Link:\n",
        "    def __init__(self, sender, receiver):\n",
        "        self.sender = sender\n",
        "        self.receiver = receiver\n",
        "\n",
        "    def send_message(self, message):\n",
        "        self.receiver.receive_message(message)\n",
        "\n",
        "\n"
      ],
      "metadata": {
        "id": "CwbZzcKsm1sd"
      },
      "execution_count": 22,
      "outputs": []
    },
    {
      "cell_type": "code",
      "source": [
        "agent_view = {}  # Dictionnaire pour stocker les vues des agents\n",
        "constraint_list = []  # Liste pour stocker les contraintes\n",
        "\n",
        "# Domaines de définition\n",
        "domain_dict = {\n",
        "    'A': [1, 2, 3],\n",
        "    'B': [1],\n",
        "    'C': [2, 3],\n",
        "    'D': [3]\n",
        "}\n",
        "\n",
        "# Contraintes basées sur le graphe orienté\n",
        "constraints_dict = {\n",
        "    'A': [('C', '!=', 'A')],\n",
        "    'B': [('A', '!=', 'B'), ('C', '!=', 'B')],\n",
        "    'C': [('D', '!=', 'C')],\n",
        "    'D': []}"
      ],
      "metadata": {
        "id": "_b1dvKm5kqM-"
      },
      "execution_count": 23,
      "outputs": []
    },
    {
      "cell_type": "code",
      "source": [
        "# Creating agents with different domains\n",
        "agents = {}\n",
        "for agent_id, domain in domain_dict.items():\n",
        "    agents[agent_id] = Agent(agent_id, domain)\n",
        "\n",
        "# Establishing connections between agents\n",
        "for agent_id, constraints in constraints_dict.items():\n",
        "    for constraint in constraints:\n",
        "        neighbor_id = constraint[0]\n",
        "        if neighbor_id in agents:\n",
        "            agents[agent_id].outgoing_links.append(Link(agents[agent_id], agents[neighbor_id]))\n",
        "\n",
        "\n",
        "# Sending initial messages to start the process\n",
        "agents['A'].check_agent_view()\n"
      ],
      "metadata": {
        "id": "py_oSMMum59C"
      },
      "execution_count": 24,
      "outputs": []
    },
    {
      "cell_type": "code",
      "source": [
        "import networkx as nx\n",
        "import matplotlib.pyplot as plt\n",
        "\n",
        "# Définition du graphe\n",
        "G = nx.DiGraph()\n",
        "\n",
        "# Ajout des nœuds\n",
        "nodes = ['A', 'B', 'C', 'D']\n",
        "G.add_nodes_from(nodes)\n",
        "\n",
        "# Ajout des arêtes\n",
        "edges = [('A', 'C'), ('B', 'A'), ('B', 'C'), ('C', 'D')]\n",
        "G.add_edges_from(edges)\n",
        "\n",
        "# Définition de la position des nœuds pour la visualisation\n",
        "pos = nx.spring_layout(G)\n",
        "\n",
        "# Dessin du graphe\n",
        "nx.draw(G, pos, with_labels=True, node_size=1000, node_color='lightblue', font_size=12, font_weight='bold', arrows=True)\n",
        "\n",
        "# Affichage de la visualisation\n",
        "plt.title(\"Graphe des états\")\n",
        "plt.show()"
      ],
      "metadata": {
        "colab": {
          "base_uri": "https://localhost:8080/",
          "height": 539
        },
        "id": "dW69SJP6kyGd",
        "outputId": "38938c51-902b-4f65-824b-8510200d1636"
      },
      "execution_count": 25,
      "outputs": [
        {
          "output_type": "display_data",
          "data": {
            "text/plain": [
              "<Figure size 640x480 with 1 Axes>"
            ],
            "image/png": "[encoded data removed]"
          },
          "metadata": {}
        }
      ]
    },
    {
      "cell_type": "code",
      "source": [
        "# Initializing agent views with initial values\n",
        "initial_values = {'D': 3, 'A': 3, 'C': 2, 'B': 1}\n",
        "for agent_id, value in initial_values.items():\n",
        "    agents[agent_id].add_to_agent_view((agent_id, value))\n",
        "\n",
        "\n",
        "# Sending initial messages to start the process\n",
        "agents['A'].check_agent_view()"
      ],
      "metadata": {
        "id": "IDtoxYYNqim4"
      },
      "execution_count": 29,
      "outputs": []
    }
  ]
}