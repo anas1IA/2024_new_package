{
  "cells": [
    {
      "cell_type": "markdown",
      "metadata": {
        "id": "view-in-github",
        "colab_type": "text"
      },
      "source": [
        "<a href=\"https://colab.research.google.com/github/anas1IA/2024_new_package/blob/main/deeptweets_(1).ipynb\" target=\"_parent\"><img src=\"https://colab.research.google.com/assets/colab-badge.svg\" alt=\"Open In Colab\"/></a>"
      ]
    },
    {
      "cell_type": "markdown",
      "metadata": {
        "id": "X7KV265CUA74"
      },
      "source": [
        "# About this task\n",
        "\n",
        "The task is a binary classification for tweets into the two classes Politics and Sports using the tweet text as input."
      ]
    },
    {
      "cell_type": "markdown",
      "metadata": {
        "id": "d6yDvWjdUA8E"
      },
      "source": [
        "# Importing Necessities"
      ]
    },
    {
      "cell_type": "code",
      "execution_count": 3,
      "metadata": {
        "colab": {
          "base_uri": "https://localhost:8080/"
        },
        "id": "SwBgFPrbUA8G",
        "outputId": "58808a77-0760-461e-8233-363004019f8a"
      },
      "outputs": [
        {
          "output_type": "stream",
          "name": "stderr",
          "text": [
            "[nltk_data] Downloading package stopwords to /root/nltk_data...\n",
            "[nltk_data]   Package stopwords is already up-to-date!\n"
          ]
        }
      ],
      "source": [
        "import numpy as np\n",
        "import pandas as pd\n",
        "import math\n",
        "import matplotlib.pyplot as plt\n",
        "%matplotlib inline\n",
        "import seaborn as sns\n",
        "import re\n",
        "import string\n",
        "from collections import Counter\n",
        "import copy\n",
        "\n",
        "from PIL import Image\n",
        "from wordcloud import WordCloud, STOPWORDS, ImageColorGenerator\n",
        "\n",
        "from sklearn.linear_model import LogisticRegression\n",
        "from sklearn.model_selection import cross_val_score\n",
        "from sklearn.decomposition import PCA\n",
        "from sklearn.feature_extraction.text import TfidfVectorizer\n",
        "from sklearn.decomposition import TruncatedSVD\n",
        "from sklearn.neural_network import MLPClassifier\n",
        "\n",
        "import nltk\n",
        "import nltk\n",
        "nltk.download('stopwords')\n",
        "from nltk.corpus import stopwords\n",
        "# nltk.download('punkt')\n",
        "\n",
        "from tqdm.auto import tqdm\n",
        "\n",
        "import os\n",
        "# for dirname, _, filenames in os.walk('/kaggle/input'):\n",
        "#     for filename in filenames:\n",
        "#         print(os.path.join(dirname, filename))"
      ]
    },
    {
      "cell_type": "markdown",
      "metadata": {
        "id": "10XOUW5ZUA8J"
      },
      "source": [
        "# Reading the data"
      ]
    },
    {
      "cell_type": "code",
      "execution_count": 4,
      "metadata": {
        "id": "soflZldaUA8K"
      },
      "outputs": [],
      "source": [
        "train =  pd.read_csv(\"train.csv\")\n",
        "training = pd.read_csv(\"training.csv\")\n",
        "test =  pd.read_csv(\"test.csv\")"
      ]
    },
    {
      "cell_type": "code",
      "execution_count": 5,
      "metadata": {
        "colab": {
          "base_uri": "https://localhost:8080/"
        },
        "id": "gq_voI26hsgB",
        "outputId": "5ceb6e7e-9a57-429f-8db3-6f79091e5440"
      },
      "outputs": [
        {
          "output_type": "execute_result",
          "data": {
            "text/plain": [
              "((6525, 3), (6525, 3), (2610, 2))"
            ]
          },
          "metadata": {},
          "execution_count": 5
        }
      ],
      "source": [
        "train.shape,training.shape,test.shape"
      ]
    },
    {
      "cell_type": "code",
      "execution_count": 6,
      "metadata": {
        "colab": {
          "base_uri": "https://localhost:8080/"
        },
        "id": "6uoJRq5fUA8L",
        "outputId": "5e566324-f5ce-477b-f7fc-4d682ed2f6cc"
      },
      "outputs": [
        {
          "output_type": "stream",
          "name": "stdout",
          "text": [
            "The dataframes are equal\n"
          ]
        }
      ],
      "source": [
        "if train.equals(training):\n",
        "    print(\"The dataframes are equal\")\n",
        "else:\n",
        "    print(\"The dataframes are not equal\")"
      ]
    },
    {
      "cell_type": "markdown",
      "metadata": {
        "id": "0S2NSX52UA8P"
      },
      "source": [
        "We have two datasets that contain the same data, so we are just going to use one of them. In our case we are going to use the \"train\" dataset."
      ]
    },
    {
      "cell_type": "code",
      "execution_count": 7,
      "metadata": {
        "colab": {
          "base_uri": "https://localhost:8080/",
          "height": 206
        },
        "id": "74612bm8UA8Q",
        "outputId": "3b54d982-350a-487a-ada1-9bb407c77d27"
      },
      "outputs": [
        {
          "output_type": "execute_result",
          "data": {
            "text/plain": [
              "              TweetId     Label  \\\n",
              "0  304271250237304833  Politics   \n",
              "1  304834304222064640  Politics   \n",
              "2  303568995880144898    Sports   \n",
              "3  304366580664528896    Sports   \n",
              "4  296770931098009601    Sports   \n",
              "\n",
              "                                           TweetText  \n",
              "0  '#SecKerry: The value of the @StateDept and @U...  \n",
              "1                            '@rraina1481 I fear so'  \n",
              "2  'Watch video highlights of the #wwc13 final be...  \n",
              "3  'RT @chelscanlan: At Nitro Circus at #AlbertPa...  \n",
              "4  '@cricketfox Always a good thing. Thanks for t...  "
            ],
            "text/html": [
              "\n",
              "  <div id=\"df-032c5d36-e9a4-4d0f-831d-4bdb59100c46\" class=\"colab-df-container\">\n",
              "    <div>\n",
              "<style scoped>\n",
              "    .dataframe tbody tr th:only-of-type {\n",
              "        vertical-align: middle;\n",
              "    }\n",
              "\n",
              "    .dataframe tbody tr th {\n",
              "        vertical-align: top;\n",
              "    }\n",
              "\n",
              "    .dataframe thead th {\n",
              "        text-align: right;\n",
              "    }\n",
              "</style>\n",
              "<table border=\"1\" class=\"dataframe\">\n",
              "  <thead>\n",
              "    <tr style=\"text-align: right;\">\n",
              "      <th></th>\n",
              "      <th>TweetId</th>\n",
              "      <th>Label</th>\n",
              "      <th>TweetText</th>\n",
              "    </tr>\n",
              "  </thead>\n",
              "  <tbody>\n",
              "    <tr>\n",
              "      <th>0</th>\n",
              "      <td>304271250237304833</td>\n",
              "      <td>Politics</td>\n",
              "      <td>'#SecKerry: The value of the @StateDept and @U...</td>\n",
              "    </tr>\n",
              "    <tr>\n",
              "      <th>1</th>\n",
              "      <td>304834304222064640</td>\n",
              "      <td>Politics</td>\n",
              "      <td>'@rraina1481 I fear so'</td>\n",
              "    </tr>\n",
              "    <tr>\n",
              "      <th>2</th>\n",
              "      <td>303568995880144898</td>\n",
              "      <td>Sports</td>\n",
              "      <td>'Watch video highlights of the #wwc13 final be...</td>\n",
              "    </tr>\n",
              "    <tr>\n",
              "      <th>3</th>\n",
              "      <td>304366580664528896</td>\n",
              "      <td>Sports</td>\n",
              "      <td>'RT @chelscanlan: At Nitro Circus at #AlbertPa...</td>\n",
              "    </tr>\n",
              "    <tr>\n",
              "      <th>4</th>\n",
              "      <td>296770931098009601</td>\n",
              "      <td>Sports</td>\n",
              "      <td>'@cricketfox Always a good thing. Thanks for t...</td>\n",
              "    </tr>\n",
              "  </tbody>\n",
              "</table>\n",
              "</div>\n",
              "    <div class=\"colab-df-buttons\">\n",
              "\n",
              "  <div class=\"colab-df-container\">\n",
              "    <button class=\"colab-df-convert\" onclick=\"convertToInteractive('df-032c5d36-e9a4-4d0f-831d-4bdb59100c46')\"\n",
              "            title=\"Convert this dataframe to an interactive table.\"\n",
              "            style=\"display:none;\">\n",
              "\n",
              "  <svg xmlns=\"http://www.w3.org/2000/svg\" height=\"24px\" viewBox=\"0 -960 960 960\">\n",
              "    <path d=\"M120-120v-720h720v720H120Zm60-500h600v-160H180v160Zm220 220h160v-160H400v160Zm0 220h160v-160H400v160ZM180-400h160v-160H180v160Zm440 0h160v-160H620v160ZM180-180h160v-160H180v160Zm440 0h160v-160H620v160Z\"/>\n",
              "  </svg>\n",
              "    </button>\n",
              "\n",
              "  <style>\n",
              "    .colab-df-container {\n",
              "      display:flex;\n",
              "      gap: 12px;\n",
              "    }\n",
              "\n",
              "    .colab-df-convert {\n",
              "      background-color: #E8F0FE;\n",
              "      border: none;\n",
              "      border-radius: 50%;\n",
              "      cursor: pointer;\n",
              "      display: none;\n",
              "      fill: #1967D2;\n",
              "      height: 32px;\n",
              "      padding: 0 0 0 0;\n",
              "      width: 32px;\n",
              "    }\n",
              "\n",
              "    .colab-df-convert:hover {\n",
              "      background-color: #E2EBFA;\n",
              "      box-shadow: 0px 1px 2px rgba(60, 64, 67, 0.3), 0px 1px 3px 1px rgba(60, 64, 67, 0.15);\n",
              "      fill: #174EA6;\n",
              "    }\n",
              "\n",
              "    .colab-df-buttons div {\n",
              "      margin-bottom: 4px;\n",
              "    }\n",
              "\n",
              "    [theme=dark] .colab-df-convert {\n",
              "      background-color: #3B4455;\n",
              "      fill: #D2E3FC;\n",
              "    }\n",
              "\n",
              "    [theme=dark] .colab-df-convert:hover {\n",
              "      background-color: #434B5C;\n",
              "      box-shadow: 0px 1px 3px 1px rgba(0, 0, 0, 0.15);\n",
              "      filter: drop-shadow(0px 1px 2px rgba(0, 0, 0, 0.3));\n",
              "      fill: #FFFFFF;\n",
              "    }\n",
              "  </style>\n",
              "\n",
              "    <script>\n",
              "      const buttonEl =\n",
              "        document.querySelector('#df-032c5d36-e9a4-4d0f-831d-4bdb59100c46 button.colab-df-convert');\n",
              "      buttonEl.style.display =\n",
              "        google.colab.kernel.accessAllowed ? 'block' : 'none';\n",
              "\n",
              "      async function convertToInteractive(key) {\n",
              "        const element = document.querySelector('#df-032c5d36-e9a4-4d0f-831d-4bdb59100c46');\n",
              "        const dataTable =\n",
              "          await google.colab.kernel.invokeFunction('convertToInteractive',\n",
              "                                                    [key], {});\n",
              "        if (!dataTable) return;\n",
              "\n",
              "        const docLinkHtml = 'Like what you see? Visit the ' +\n",
              "          '<a target=\"_blank\" href=https://colab.research.google.com/notebooks/data_table.ipynb>data table notebook</a>'\n",
              "          + ' to learn more about interactive tables.';\n",
              "        element.innerHTML = '';\n",
              "        dataTable['output_type'] = 'display_data';\n",
              "        await google.colab.output.renderOutput(dataTable, element);\n",
              "        const docLink = document.createElement('div');\n",
              "        docLink.innerHTML = docLinkHtml;\n",
              "        element.appendChild(docLink);\n",
              "      }\n",
              "    </script>\n",
              "  </div>\n",
              "\n",
              "\n",
              "<div id=\"df-5cce13d3-4873-4d68-a796-ca8b03285eb6\">\n",
              "  <button class=\"colab-df-quickchart\" onclick=\"quickchart('df-5cce13d3-4873-4d68-a796-ca8b03285eb6')\"\n",
              "            title=\"Suggest charts\"\n",
              "            style=\"display:none;\">\n",
              "\n",
              "<svg xmlns=\"http://www.w3.org/2000/svg\" height=\"24px\"viewBox=\"0 0 24 24\"\n",
              "     width=\"24px\">\n",
              "    <g>\n",
              "        <path d=\"M19 3H5c-1.1 0-2 .9-2 2v14c0 1.1.9 2 2 2h14c1.1 0 2-.9 2-2V5c0-1.1-.9-2-2-2zM9 17H7v-7h2v7zm4 0h-2V7h2v10zm4 0h-2v-4h2v4z\"/>\n",
              "    </g>\n",
              "</svg>\n",
              "  </button>\n",
              "\n",
              "<style>\n",
              "  .colab-df-quickchart {\n",
              "      --bg-color: #E8F0FE;\n",
              "      --fill-color: #1967D2;\n",
              "      --hover-bg-color: #E2EBFA;\n",
              "      --hover-fill-color: #174EA6;\n",
              "      --disabled-fill-color: #AAA;\n",
              "      --disabled-bg-color: #DDD;\n",
              "  }\n",
              "\n",
              "  [theme=dark] .colab-df-quickchart {\n",
              "      --bg-color: #3B4455;\n",
              "      --fill-color: #D2E3FC;\n",
              "      --hover-bg-color: #434B5C;\n",
              "      --hover-fill-color: #FFFFFF;\n",
              "      --disabled-bg-color: #3B4455;\n",
              "      --disabled-fill-color: #666;\n",
              "  }\n",
              "\n",
              "  .colab-df-quickchart {\n",
              "    background-color: var(--bg-color);\n",
              "    border: none;\n",
              "    border-radius: 50%;\n",
              "    cursor: pointer;\n",
              "    display: none;\n",
              "    fill: var(--fill-color);\n",
              "    height: 32px;\n",
              "    padding: 0;\n",
              "    width: 32px;\n",
              "  }\n",
              "\n",
              "  .colab-df-quickchart:hover {\n",
              "    background-color: var(--hover-bg-color);\n",
              "    box-shadow: 0 1px 2px rgba(60, 64, 67, 0.3), 0 1px 3px 1px rgba(60, 64, 67, 0.15);\n",
              "    fill: var(--button-hover-fill-color);\n",
              "  }\n",
              "\n",
              "  .colab-df-quickchart-complete:disabled,\n",
              "  .colab-df-quickchart-complete:disabled:hover {\n",
              "    background-color: var(--disabled-bg-color);\n",
              "    fill: var(--disabled-fill-color);\n",
              "    box-shadow: none;\n",
              "  }\n",
              "\n",
              "  .colab-df-spinner {\n",
              "    border: 2px solid var(--fill-color);\n",
              "    border-color: transparent;\n",
              "    border-bottom-color: var(--fill-color);\n",
              "    animation:\n",
              "      spin 1s steps(1) infinite;\n",
              "  }\n",
              "\n",
              "  @keyframes spin {\n",
              "    0% {\n",
              "      border-color: transparent;\n",
              "      border-bottom-color: var(--fill-color);\n",
              "      border-left-color: var(--fill-color);\n",
              "    }\n",
              "    20% {\n",
              "      border-color: transparent;\n",
              "      border-left-color: var(--fill-color);\n",
              "      border-top-color: var(--fill-color);\n",
              "    }\n",
              "    30% {\n",
              "      border-color: transparent;\n",
              "      border-left-color: var(--fill-color);\n",
              "      border-top-color: var(--fill-color);\n",
              "      border-right-color: var(--fill-color);\n",
              "    }\n",
              "    40% {\n",
              "      border-color: transparent;\n",
              "      border-right-color: var(--fill-color);\n",
              "      border-top-color: var(--fill-color);\n",
              "    }\n",
              "    60% {\n",
              "      border-color: transparent;\n",
              "      border-right-color: var(--fill-color);\n",
              "    }\n",
              "    80% {\n",
              "      border-color: transparent;\n",
              "      border-right-color: var(--fill-color);\n",
              "      border-bottom-color: var(--fill-color);\n",
              "    }\n",
              "    90% {\n",
              "      border-color: transparent;\n",
              "      border-bottom-color: var(--fill-color);\n",
              "    }\n",
              "  }\n",
              "</style>\n",
              "\n",
              "  <script>\n",
              "    async function quickchart(key) {\n",
              "      const quickchartButtonEl =\n",
              "        document.querySelector('#' + key + ' button');\n",
              "      quickchartButtonEl.disabled = true;  // To prevent multiple clicks.\n",
              "      quickchartButtonEl.classList.add('colab-df-spinner');\n",
              "      try {\n",
              "        const charts = await google.colab.kernel.invokeFunction(\n",
              "            'suggestCharts', [key], {});\n",
              "      } catch (error) {\n",
              "        console.error('Error during call to suggestCharts:', error);\n",
              "      }\n",
              "      quickchartButtonEl.classList.remove('colab-df-spinner');\n",
              "      quickchartButtonEl.classList.add('colab-df-quickchart-complete');\n",
              "    }\n",
              "    (() => {\n",
              "      let quickchartButtonEl =\n",
              "        document.querySelector('#df-5cce13d3-4873-4d68-a796-ca8b03285eb6 button');\n",
              "      quickchartButtonEl.style.display =\n",
              "        google.colab.kernel.accessAllowed ? 'block' : 'none';\n",
              "    })();\n",
              "  </script>\n",
              "</div>\n",
              "\n",
              "    </div>\n",
              "  </div>\n"
            ],
            "application/vnd.google.colaboratory.intrinsic+json": {
              "type": "dataframe",
              "variable_name": "train",
              "summary": "{\n  \"name\": \"train\",\n  \"rows\": 6525,\n  \"fields\": [\n    {\n      \"column\": \"TweetId\",\n      \"properties\": {\n        \"dtype\": \"number\",\n        \"std\": 51398190539813376,\n        \"min\": 23909305792,\n        \"max\": 306834146813169667,\n        \"num_unique_values\": 6525,\n        \"samples\": [\n          304591158921818113,\n          305937398846607360,\n          304094994950672384\n        ],\n        \"semantic_type\": \"\",\n        \"description\": \"\"\n      }\n    },\n    {\n      \"column\": \"Label\",\n      \"properties\": {\n        \"dtype\": \"category\",\n        \"num_unique_values\": 2,\n        \"samples\": [\n          \"Sports\",\n          \"Politics\"\n        ],\n        \"semantic_type\": \"\",\n        \"description\": \"\"\n      }\n    },\n    {\n      \"column\": \"TweetText\",\n      \"properties\": {\n        \"dtype\": \"string\",\n        \"num_unique_values\": 6508,\n        \"samples\": [\n          \"'Looks like #Blackpool Manager, Ian Holloway is saving some money from his budget to spend in January.'\",\n          \"'Late night debates at @EP_Economics: #EuropeanSemester and derivatives on agenda. Tune in at 10pm CET http://t.co/UNWHW0g6'\"\n        ],\n        \"semantic_type\": \"\",\n        \"description\": \"\"\n      }\n    }\n  ]\n}"
            }
          },
          "metadata": {},
          "execution_count": 7
        }
      ],
      "source": [
        "train.head()"
      ]
    },
    {
      "cell_type": "code",
      "execution_count": 8,
      "metadata": {
        "colab": {
          "base_uri": "https://localhost:8080/",
          "height": 206
        },
        "id": "MhJK6xnOUA8R",
        "outputId": "8f8e3626-5ae0-4a29-aa6b-eb5b73be596c"
      },
      "outputs": [
        {
          "output_type": "execute_result",
          "data": {
            "text/plain": [
              "              TweetId                                          TweetText\n",
              "0  306486520121012224  '28. The home side threaten again through Maso...\n",
              "1  286353402605228032  '@mrbrown @aulia Thx for asking. See http://t....\n",
              "2  289531046037438464  '@Sochi2014 construction along the shores of t...\n",
              "3  306451661403062273  '#SecKerry\\u2019s remarks after meeting with F...\n",
              "4  297941800658812928  'The #IPLauction has begun. Ricky Ponting is t..."
            ],
            "text/html": [
              "\n",
              "  <div id=\"df-42ec336c-40a2-418b-b87b-6e643d1227ad\" class=\"colab-df-container\">\n",
              "    <div>\n",
              "<style scoped>\n",
              "    .dataframe tbody tr th:only-of-type {\n",
              "        vertical-align: middle;\n",
              "    }\n",
              "\n",
              "    .dataframe tbody tr th {\n",
              "        vertical-align: top;\n",
              "    }\n",
              "\n",
              "    .dataframe thead th {\n",
              "        text-align: right;\n",
              "    }\n",
              "</style>\n",
              "<table border=\"1\" class=\"dataframe\">\n",
              "  <thead>\n",
              "    <tr style=\"text-align: right;\">\n",
              "      <th></th>\n",
              "      <th>TweetId</th>\n",
              "      <th>TweetText</th>\n",
              "    </tr>\n",
              "  </thead>\n",
              "  <tbody>\n",
              "    <tr>\n",
              "      <th>0</th>\n",
              "      <td>306486520121012224</td>\n",
              "      <td>'28. The home side threaten again through Maso...</td>\n",
              "    </tr>\n",
              "    <tr>\n",
              "      <th>1</th>\n",
              "      <td>286353402605228032</td>\n",
              "      <td>'@mrbrown @aulia Thx for asking. See http://t....</td>\n",
              "    </tr>\n",
              "    <tr>\n",
              "      <th>2</th>\n",
              "      <td>289531046037438464</td>\n",
              "      <td>'@Sochi2014 construction along the shores of t...</td>\n",
              "    </tr>\n",
              "    <tr>\n",
              "      <th>3</th>\n",
              "      <td>306451661403062273</td>\n",
              "      <td>'#SecKerry\\u2019s remarks after meeting with F...</td>\n",
              "    </tr>\n",
              "    <tr>\n",
              "      <th>4</th>\n",
              "      <td>297941800658812928</td>\n",
              "      <td>'The #IPLauction has begun. Ricky Ponting is t...</td>\n",
              "    </tr>\n",
              "  </tbody>\n",
              "</table>\n",
              "</div>\n",
              "    <div class=\"colab-df-buttons\">\n",
              "\n",
              "  <div class=\"colab-df-container\">\n",
              "    <button class=\"colab-df-convert\" onclick=\"convertToInteractive('df-42ec336c-40a2-418b-b87b-6e643d1227ad')\"\n",
              "            title=\"Convert this dataframe to an interactive table.\"\n",
              "            style=\"display:none;\">\n",
              "\n",
              "  <svg xmlns=\"http://www.w3.org/2000/svg\" height=\"24px\" viewBox=\"0 -960 960 960\">\n",
              "    <path d=\"M120-120v-720h720v720H120Zm60-500h600v-160H180v160Zm220 220h160v-160H400v160Zm0 220h160v-160H400v160ZM180-400h160v-160H180v160Zm440 0h160v-160H620v160ZM180-180h160v-160H180v160Zm440 0h160v-160H620v160Z\"/>\n",
              "  </svg>\n",
              "    </button>\n",
              "\n",
              "  <style>\n",
              "    .colab-df-container {\n",
              "      display:flex;\n",
              "      gap: 12px;\n",
              "    }\n",
              "\n",
              "    .colab-df-convert {\n",
              "      background-color: #E8F0FE;\n",
              "      border: none;\n",
              "      border-radius: 50%;\n",
              "      cursor: pointer;\n",
              "      display: none;\n",
              "      fill: #1967D2;\n",
              "      height: 32px;\n",
              "      padding: 0 0 0 0;\n",
              "      width: 32px;\n",
              "    }\n",
              "\n",
              "    .colab-df-convert:hover {\n",
              "      background-color: #E2EBFA;\n",
              "      box-shadow: 0px 1px 2px rgba(60, 64, 67, 0.3), 0px 1px 3px 1px rgba(60, 64, 67, 0.15);\n",
              "      fill: #174EA6;\n",
              "    }\n",
              "\n",
              "    .colab-df-buttons div {\n",
              "      margin-bottom: 4px;\n",
              "    }\n",
              "\n",
              "    [theme=dark] .colab-df-convert {\n",
              "      background-color: #3B4455;\n",
              "      fill: #D2E3FC;\n",
              "    }\n",
              "\n",
              "    [theme=dark] .colab-df-convert:hover {\n",
              "      background-color: #434B5C;\n",
              "      box-shadow: 0px 1px 3px 1px rgba(0, 0, 0, 0.15);\n",
              "      filter: drop-shadow(0px 1px 2px rgba(0, 0, 0, 0.3));\n",
              "      fill: #FFFFFF;\n",
              "    }\n",
              "  </style>\n",
              "\n",
              "    <script>\n",
              "      const buttonEl =\n",
              "        document.querySelector('#df-42ec336c-40a2-418b-b87b-6e643d1227ad button.colab-df-convert');\n",
              "      buttonEl.style.display =\n",
              "        google.colab.kernel.accessAllowed ? 'block' : 'none';\n",
              "\n",
              "      async function convertToInteractive(key) {\n",
              "        const element = document.querySelector('#df-42ec336c-40a2-418b-b87b-6e643d1227ad');\n",
              "        const dataTable =\n",
              "          await google.colab.kernel.invokeFunction('convertToInteractive',\n",
              "                                                    [key], {});\n",
              "        if (!dataTable) return;\n",
              "\n",
              "        const docLinkHtml = 'Like what you see? Visit the ' +\n",
              "          '<a target=\"_blank\" href=https://colab.research.google.com/notebooks/data_table.ipynb>data table notebook</a>'\n",
              "          + ' to learn more about interactive tables.';\n",
              "        element.innerHTML = '';\n",
              "        dataTable['output_type'] = 'display_data';\n",
              "        await google.colab.output.renderOutput(dataTable, element);\n",
              "        const docLink = document.createElement('div');\n",
              "        docLink.innerHTML = docLinkHtml;\n",
              "        element.appendChild(docLink);\n",
              "      }\n",
              "    </script>\n",
              "  </div>\n",
              "\n",
              "\n",
              "<div id=\"df-243526b9-3842-4b68-a52e-a2c356feba2a\">\n",
              "  <button class=\"colab-df-quickchart\" onclick=\"quickchart('df-243526b9-3842-4b68-a52e-a2c356feba2a')\"\n",
              "            title=\"Suggest charts\"\n",
              "            style=\"display:none;\">\n",
              "\n",
              "<svg xmlns=\"http://www.w3.org/2000/svg\" height=\"24px\"viewBox=\"0 0 24 24\"\n",
              "     width=\"24px\">\n",
              "    <g>\n",
              "        <path d=\"M19 3H5c-1.1 0-2 .9-2 2v14c0 1.1.9 2 2 2h14c1.1 0 2-.9 2-2V5c0-1.1-.9-2-2-2zM9 17H7v-7h2v7zm4 0h-2V7h2v10zm4 0h-2v-4h2v4z\"/>\n",
              "    </g>\n",
              "</svg>\n",
              "  </button>\n",
              "\n",
              "<style>\n",
              "  .colab-df-quickchart {\n",
              "      --bg-color: #E8F0FE;\n",
              "      --fill-color: #1967D2;\n",
              "      --hover-bg-color: #E2EBFA;\n",
              "      --hover-fill-color: #174EA6;\n",
              "      --disabled-fill-color: #AAA;\n",
              "      --disabled-bg-color: #DDD;\n",
              "  }\n",
              "\n",
              "  [theme=dark] .colab-df-quickchart {\n",
              "      --bg-color: #3B4455;\n",
              "      --fill-color: #D2E3FC;\n",
              "      --hover-bg-color: #434B5C;\n",
              "      --hover-fill-color: #FFFFFF;\n",
              "      --disabled-bg-color: #3B4455;\n",
              "      --disabled-fill-color: #666;\n",
              "  }\n",
              "\n",
              "  .colab-df-quickchart {\n",
              "    background-color: var(--bg-color);\n",
              "    border: none;\n",
              "    border-radius: 50%;\n",
              "    cursor: pointer;\n",
              "    display: none;\n",
              "    fill: var(--fill-color);\n",
              "    height: 32px;\n",
              "    padding: 0;\n",
              "    width: 32px;\n",
              "  }\n",
              "\n",
              "  .colab-df-quickchart:hover {\n",
              "    background-color: var(--hover-bg-color);\n",
              "    box-shadow: 0 1px 2px rgba(60, 64, 67, 0.3), 0 1px 3px 1px rgba(60, 64, 67, 0.15);\n",
              "    fill: var(--button-hover-fill-color);\n",
              "  }\n",
              "\n",
              "  .colab-df-quickchart-complete:disabled,\n",
              "  .colab-df-quickchart-complete:disabled:hover {\n",
              "    background-color: var(--disabled-bg-color);\n",
              "    fill: var(--disabled-fill-color);\n",
              "    box-shadow: none;\n",
              "  }\n",
              "\n",
              "  .colab-df-spinner {\n",
              "    border: 2px solid var(--fill-color);\n",
              "    border-color: transparent;\n",
              "    border-bottom-color: var(--fill-color);\n",
              "    animation:\n",
              "      spin 1s steps(1) infinite;\n",
              "  }\n",
              "\n",
              "  @keyframes spin {\n",
              "    0% {\n",
              "      border-color: transparent;\n",
              "      border-bottom-color: var(--fill-color);\n",
              "      border-left-color: var(--fill-color);\n",
              "    }\n",
              "    20% {\n",
              "      border-color: transparent;\n",
              "      border-left-color: var(--fill-color);\n",
              "      border-top-color: var(--fill-color);\n",
              "    }\n",
              "    30% {\n",
              "      border-color: transparent;\n",
              "      border-left-color: var(--fill-color);\n",
              "      border-top-color: var(--fill-color);\n",
              "      border-right-color: var(--fill-color);\n",
              "    }\n",
              "    40% {\n",
              "      border-color: transparent;\n",
              "      border-right-color: var(--fill-color);\n",
              "      border-top-color: var(--fill-color);\n",
              "    }\n",
              "    60% {\n",
              "      border-color: transparent;\n",
              "      border-right-color: var(--fill-color);\n",
              "    }\n",
              "    80% {\n",
              "      border-color: transparent;\n",
              "      border-right-color: var(--fill-color);\n",
              "      border-bottom-color: var(--fill-color);\n",
              "    }\n",
              "    90% {\n",
              "      border-color: transparent;\n",
              "      border-bottom-color: var(--fill-color);\n",
              "    }\n",
              "  }\n",
              "</style>\n",
              "\n",
              "  <script>\n",
              "    async function quickchart(key) {\n",
              "      const quickchartButtonEl =\n",
              "        document.querySelector('#' + key + ' button');\n",
              "      quickchartButtonEl.disabled = true;  // To prevent multiple clicks.\n",
              "      quickchartButtonEl.classList.add('colab-df-spinner');\n",
              "      try {\n",
              "        const charts = await google.colab.kernel.invokeFunction(\n",
              "            'suggestCharts', [key], {});\n",
              "      } catch (error) {\n",
              "        console.error('Error during call to suggestCharts:', error);\n",
              "      }\n",
              "      quickchartButtonEl.classList.remove('colab-df-spinner');\n",
              "      quickchartButtonEl.classList.add('colab-df-quickchart-complete');\n",
              "    }\n",
              "    (() => {\n",
              "      let quickchartButtonEl =\n",
              "        document.querySelector('#df-243526b9-3842-4b68-a52e-a2c356feba2a button');\n",
              "      quickchartButtonEl.style.display =\n",
              "        google.colab.kernel.accessAllowed ? 'block' : 'none';\n",
              "    })();\n",
              "  </script>\n",
              "</div>\n",
              "\n",
              "    </div>\n",
              "  </div>\n"
            ],
            "application/vnd.google.colaboratory.intrinsic+json": {
              "type": "dataframe",
              "variable_name": "test",
              "summary": "{\n  \"name\": \"test\",\n  \"rows\": 2610,\n  \"fields\": [\n    {\n      \"column\": \"TweetId\",\n      \"properties\": {\n        \"dtype\": \"number\",\n        \"std\": 68440362775183832,\n        \"min\": 2320824247,\n        \"max\": 306833722072788992,\n        \"num_unique_values\": 2610,\n        \"samples\": [\n          306531355225890817,\n          285792266839281664,\n          302578537133662208\n        ],\n        \"semantic_type\": \"\",\n        \"description\": \"\"\n      }\n    },\n    {\n      \"column\": \"TweetText\",\n      \"properties\": {\n        \"dtype\": \"string\",\n        \"num_unique_values\": 2598,\n        \"samples\": [\n          \"'@cherrythegreat anyways go for python, easy place to start and its pretty usefull :)'\",\n          \"'Yeah, Embassy Singapore is open today. #happynewyear'\",\n          \"'#Peacekeeping retains a long track record of adaptation &amp; change that has yielded important successes. --Ladsous'\"\n        ],\n        \"semantic_type\": \"\",\n        \"description\": \"\"\n      }\n    }\n  ]\n}"
            }
          },
          "metadata": {},
          "execution_count": 8
        }
      ],
      "source": [
        "test.head()"
      ]
    },
    {
      "cell_type": "code",
      "execution_count": 9,
      "metadata": {
        "colab": {
          "base_uri": "https://localhost:8080/"
        },
        "id": "ma7FgYz2UA8S",
        "outputId": "2a3d87c8-f125-4dd5-8fc0-4a944d06fded"
      },
      "outputs": [
        {
          "output_type": "execute_result",
          "data": {
            "text/plain": [
              "(6525, 3)"
            ]
          },
          "metadata": {},
          "execution_count": 9
        }
      ],
      "source": [
        "train.shape"
      ]
    },
    {
      "cell_type": "code",
      "execution_count": 10,
      "metadata": {
        "colab": {
          "base_uri": "https://localhost:8080/"
        },
        "id": "PDFdZSXaUA8T",
        "outputId": "ada97e98-41c1-42c7-b1f6-b4197d201ba7"
      },
      "outputs": [
        {
          "output_type": "execute_result",
          "data": {
            "text/plain": [
              "(2610, 2)"
            ]
          },
          "metadata": {},
          "execution_count": 10
        }
      ],
      "source": [
        "test.shape"
      ]
    },
    {
      "cell_type": "markdown",
      "metadata": {
        "id": "8LN55Fb1UA8U"
      },
      "source": [
        "The train dataset contains 404040 labelled tweets, and the train set contains 30430404 unlabelled tweets."
      ]
    },
    {
      "cell_type": "code",
      "execution_count": 11,
      "metadata": {
        "colab": {
          "base_uri": "https://localhost:8080/"
        },
        "id": "vbgaei0tUA8U",
        "outputId": "4c23bc4e-470e-4cde-aaa5-b3ccbcff48e5"
      },
      "outputs": [
        {
          "output_type": "stream",
          "name": "stdout",
          "text": [
            "<class 'pandas.core.frame.DataFrame'>\n",
            "RangeIndex: 6525 entries, 0 to 6524\n",
            "Data columns (total 3 columns):\n",
            " #   Column     Non-Null Count  Dtype \n",
            "---  ------     --------------  ----- \n",
            " 0   TweetId    6525 non-null   int64 \n",
            " 1   Label      6525 non-null   object\n",
            " 2   TweetText  6525 non-null   object\n",
            "dtypes: int64(1), object(2)\n",
            "memory usage: 153.1+ KB\n"
          ]
        }
      ],
      "source": [
        "train.info()"
      ]
    },
    {
      "cell_type": "code",
      "execution_count": 12,
      "metadata": {
        "colab": {
          "base_uri": "https://localhost:8080/"
        },
        "id": "KzJQ8iNsUA8V",
        "outputId": "b881ad58-cacd-414d-b39b-bded8702449c"
      },
      "outputs": [
        {
          "output_type": "stream",
          "name": "stdout",
          "text": [
            "<class 'pandas.core.frame.DataFrame'>\n",
            "RangeIndex: 2610 entries, 0 to 2609\n",
            "Data columns (total 2 columns):\n",
            " #   Column     Non-Null Count  Dtype \n",
            "---  ------     --------------  ----- \n",
            " 0   TweetId    2610 non-null   int64 \n",
            " 1   TweetText  2610 non-null   object\n",
            "dtypes: int64(1), object(1)\n",
            "memory usage: 40.9+ KB\n"
          ]
        }
      ],
      "source": [
        "test.info()"
      ]
    },
    {
      "cell_type": "markdown",
      "metadata": {
        "id": "HY6cEMkMUA8X"
      },
      "source": [
        "# Data cleaning and Visualization\n",
        "\n",
        "Let's try to gain insight on how our data is structured by using visualizations."
      ]
    },
    {
      "cell_type": "markdown",
      "metadata": {
        "id": "LphM3nnxUA8X"
      },
      "source": [
        "## General distribution"
      ]
    },
    {
      "cell_type": "code",
      "execution_count": 13,
      "metadata": {
        "colab": {
          "base_uri": "https://localhost:8080/",
          "height": 112
        },
        "id": "9rvXGfk4UA8Y",
        "outputId": "287eb2ff-a48a-4a8b-a7a0-710a83da2ad0"
      },
      "outputs": [
        {
          "output_type": "execute_result",
          "data": {
            "text/plain": [
              "<pandas.io.formats.style.Styler at 0x7945d1a6e650>"
            ],
            "text/html": [
              "<style type=\"text/css\">\n",
              "#T_e849e_row0_col1 {\n",
              "  background-color: #08306b;\n",
              "  color: #f1f1f1;\n",
              "}\n",
              "#T_e849e_row1_col1 {\n",
              "  background-color: #f7fbff;\n",
              "  color: #000000;\n",
              "}\n",
              "</style>\n",
              "<table id=\"T_e849e\" class=\"dataframe\">\n",
              "  <thead>\n",
              "    <tr>\n",
              "      <th class=\"blank level0\" >&nbsp;</th>\n",
              "      <th id=\"T_e849e_level0_col0\" class=\"col_heading level0 col0\" >Label</th>\n",
              "      <th id=\"T_e849e_level0_col1\" class=\"col_heading level0 col1\" >TweetText</th>\n",
              "    </tr>\n",
              "  </thead>\n",
              "  <tbody>\n",
              "    <tr>\n",
              "      <th id=\"T_e849e_level0_row0\" class=\"row_heading level0 row0\" >1</th>\n",
              "      <td id=\"T_e849e_row0_col0\" class=\"data row0 col0\" >Sports</td>\n",
              "      <td id=\"T_e849e_row0_col1\" class=\"data row0 col1\" >3325</td>\n",
              "    </tr>\n",
              "    <tr>\n",
              "      <th id=\"T_e849e_level0_row1\" class=\"row_heading level0 row1\" >0</th>\n",
              "      <td id=\"T_e849e_row1_col0\" class=\"data row1 col0\" >Politics</td>\n",
              "      <td id=\"T_e849e_row1_col1\" class=\"data row1 col1\" >3200</td>\n",
              "    </tr>\n",
              "  </tbody>\n",
              "</table>\n"
            ]
          },
          "metadata": {},
          "execution_count": 13
        }
      ],
      "source": [
        "temp = train.groupby('Label').count()['TweetText'].reset_index().sort_values(by='TweetText',ascending=False)\n",
        "temp.style.background_gradient(cmap='Blues')"
      ]
    },
    {
      "cell_type": "code",
      "execution_count": 14,
      "metadata": {
        "colab": {
          "base_uri": "https://localhost:8080/",
          "height": 559
        },
        "id": "_7z2VU5yUA8Y",
        "outputId": "50c1aad4-bdc2-412d-885e-5026bc9e4803"
      },
      "outputs": [
        {
          "output_type": "execute_result",
          "data": {
            "text/plain": [
              "<Axes: xlabel='Label', ylabel='count'>"
            ]
          },
          "metadata": {},
          "execution_count": 14
        },
        {
          "output_type": "display_data",
          "data": {
            "text/plain": [
              "<Figure size 1200x600 with 1 Axes>"
            ],
            "image/png": "[encoded data removed]"
          },
          "metadata": {}
        }
      ],
      "source": [
        "plt.figure(figsize=(12,6))\n",
        "sns.countplot(x='Label',data=train)"
      ]
    },
    {
      "cell_type": "markdown",
      "metadata": {
        "id": "imXNijsMUA8a"
      },
      "source": [
        "The distribution of topics amoing the tweets in the train set is almost perfectly balanced."
      ]
    },
    {
      "cell_type": "markdown",
      "metadata": {
        "id": "6MfrAew2UA8b"
      },
      "source": [
        "## Text cleaning\n",
        "\n",
        "We are going to remove special characters from the tweet text and lowercase all words  to prepare for tokenization."
      ]
    },
    {
      "cell_type": "code",
      "execution_count": 15,
      "metadata": {
        "id": "KiUqUgu6UA8c"
      },
      "outputs": [],
      "source": [
        "def clean_text(text):\n",
        "    '''Make text lowercase, remove text in square brackets,remove links,remove punctuation\n",
        "    and remove words containing numbers.'''\n",
        "    text = str(text).lower()\n",
        "    text = re.sub('\\[.*?\\]', '', text)\n",
        "    text = re.sub('https?://\\S+|www\\.\\S+', '', text)\n",
        "    text = re.sub('<.*?>+', '', text)\n",
        "    text = re.sub('[%s]' % re.escape(string.punctuation), '', text)\n",
        "    text = re.sub('\\n', '', text)\n",
        "    # text = re.sub('\\w*\\d\\w*', '', text)\n",
        "    return text"
      ]
    },
    {
      "cell_type": "code",
      "execution_count": 16,
      "metadata": {
        "id": "JFGcVzN8UA8d"
      },
      "outputs": [],
      "source": [
        "train['CleanTweetText'] = train['TweetText'].apply(lambda x:clean_text(x))\n",
        "test['CleanTweetText'] = test['TweetText'].apply(lambda x:clean_text(x))"
      ]
    },
    {
      "cell_type": "code",
      "execution_count": 17,
      "metadata": {
        "colab": {
          "base_uri": "https://localhost:8080/",
          "height": 206
        },
        "id": "eHNeR6jiUA8e",
        "outputId": "4099c361-72ca-49ee-d613-5622d5fe9a5e"
      },
      "outputs": [
        {
          "output_type": "execute_result",
          "data": {
            "text/plain": [
              "              TweetId     Label  \\\n",
              "0  304271250237304833  Politics   \n",
              "1  304834304222064640  Politics   \n",
              "2  303568995880144898    Sports   \n",
              "3  304366580664528896    Sports   \n",
              "4  296770931098009601    Sports   \n",
              "\n",
              "                                           TweetText  \\\n",
              "0  '#SecKerry: The value of the @StateDept and @U...   \n",
              "1                            '@rraina1481 I fear so'   \n",
              "2  'Watch video highlights of the #wwc13 final be...   \n",
              "3  'RT @chelscanlan: At Nitro Circus at #AlbertPa...   \n",
              "4  '@cricketfox Always a good thing. Thanks for t...   \n",
              "\n",
              "                                      CleanTweetText  \n",
              "0  seckerry the value of the statedept and usaid ...  \n",
              "1                               rraina1481 i fear so  \n",
              "2  watch video highlights of the wwc13 final betw...  \n",
              "3  rt chelscanlan at nitro circus at albertpark  ...  \n",
              "4  cricketfox always a good thing thanks for the ...  "
            ],
            "text/html": [
              "\n",
              "  <div id=\"df-fbaffbf9-6c72-42ea-a2de-b42c6526ebcb\" class=\"colab-df-container\">\n",
              "    <div>\n",
              "<style scoped>\n",
              "    .dataframe tbody tr th:only-of-type {\n",
              "        vertical-align: middle;\n",
              "    }\n",
              "\n",
              "    .dataframe tbody tr th {\n",
              "        vertical-align: top;\n",
              "    }\n",
              "\n",
              "    .dataframe thead th {\n",
              "        text-align: right;\n",
              "    }\n",
              "</style>\n",
              "<table border=\"1\" class=\"dataframe\">\n",
              "  <thead>\n",
              "    <tr style=\"text-align: right;\">\n",
              "      <th></th>\n",
              "      <th>TweetId</th>\n",
              "      <th>Label</th>\n",
              "      <th>TweetText</th>\n",
              "      <th>CleanTweetText</th>\n",
              "    </tr>\n",
              "  </thead>\n",
              "  <tbody>\n",
              "    <tr>\n",
              "      <th>0</th>\n",
              "      <td>304271250237304833</td>\n",
              "      <td>Politics</td>\n",
              "      <td>'#SecKerry: The value of the @StateDept and @U...</td>\n",
              "      <td>seckerry the value of the statedept and usaid ...</td>\n",
              "    </tr>\n",
              "    <tr>\n",
              "      <th>1</th>\n",
              "      <td>304834304222064640</td>\n",
              "      <td>Politics</td>\n",
              "      <td>'@rraina1481 I fear so'</td>\n",
              "      <td>rraina1481 i fear so</td>\n",
              "    </tr>\n",
              "    <tr>\n",
              "      <th>2</th>\n",
              "      <td>303568995880144898</td>\n",
              "      <td>Sports</td>\n",
              "      <td>'Watch video highlights of the #wwc13 final be...</td>\n",
              "      <td>watch video highlights of the wwc13 final betw...</td>\n",
              "    </tr>\n",
              "    <tr>\n",
              "      <th>3</th>\n",
              "      <td>304366580664528896</td>\n",
              "      <td>Sports</td>\n",
              "      <td>'RT @chelscanlan: At Nitro Circus at #AlbertPa...</td>\n",
              "      <td>rt chelscanlan at nitro circus at albertpark  ...</td>\n",
              "    </tr>\n",
              "    <tr>\n",
              "      <th>4</th>\n",
              "      <td>296770931098009601</td>\n",
              "      <td>Sports</td>\n",
              "      <td>'@cricketfox Always a good thing. Thanks for t...</td>\n",
              "      <td>cricketfox always a good thing thanks for the ...</td>\n",
              "    </tr>\n",
              "  </tbody>\n",
              "</table>\n",
              "</div>\n",
              "    <div class=\"colab-df-buttons\">\n",
              "\n",
              "  <div class=\"colab-df-container\">\n",
              "    <button class=\"colab-df-convert\" onclick=\"convertToInteractive('df-fbaffbf9-6c72-42ea-a2de-b42c6526ebcb')\"\n",
              "            title=\"Convert this dataframe to an interactive table.\"\n",
              "            style=\"display:none;\">\n",
              "\n",
              "  <svg xmlns=\"http://www.w3.org/2000/svg\" height=\"24px\" viewBox=\"0 -960 960 960\">\n",
              "    <path d=\"M120-120v-720h720v720H120Zm60-500h600v-160H180v160Zm220 220h160v-160H400v160Zm0 220h160v-160H400v160ZM180-400h160v-160H180v160Zm440 0h160v-160H620v160ZM180-180h160v-160H180v160Zm440 0h160v-160H620v160Z\"/>\n",
              "  </svg>\n",
              "    </button>\n",
              "\n",
              "  <style>\n",
              "    .colab-df-container {\n",
              "      display:flex;\n",
              "      gap: 12px;\n",
              "    }\n",
              "\n",
              "    .colab-df-convert {\n",
              "      background-color: #E8F0FE;\n",
              "      border: none;\n",
              "      border-radius: 50%;\n",
              "      cursor: pointer;\n",
              "      display: none;\n",
              "      fill: #1967D2;\n",
              "      height: 32px;\n",
              "      padding: 0 0 0 0;\n",
              "      width: 32px;\n",
              "    }\n",
              "\n",
              "    .colab-df-convert:hover {\n",
              "      background-color: #E2EBFA;\n",
              "      box-shadow: 0px 1px 2px rgba(60, 64, 67, 0.3), 0px 1px 3px 1px rgba(60, 64, 67, 0.15);\n",
              "      fill: #174EA6;\n",
              "    }\n",
              "\n",
              "    .colab-df-buttons div {\n",
              "      margin-bottom: 4px;\n",
              "    }\n",
              "\n",
              "    [theme=dark] .colab-df-convert {\n",
              "      background-color: #3B4455;\n",
              "      fill: #D2E3FC;\n",
              "    }\n",
              "\n",
              "    [theme=dark] .colab-df-convert:hover {\n",
              "      background-color: #434B5C;\n",
              "      box-shadow: 0px 1px 3px 1px rgba(0, 0, 0, 0.15);\n",
              "      filter: drop-shadow(0px 1px 2px rgba(0, 0, 0, 0.3));\n",
              "      fill: #FFFFFF;\n",
              "    }\n",
              "  </style>\n",
              "\n",
              "    <script>\n",
              "      const buttonEl =\n",
              "        document.querySelector('#df-fbaffbf9-6c72-42ea-a2de-b42c6526ebcb button.colab-df-convert');\n",
              "      buttonEl.style.display =\n",
              "        google.colab.kernel.accessAllowed ? 'block' : 'none';\n",
              "\n",
              "      async function convertToInteractive(key) {\n",
              "        const element = document.querySelector('#df-fbaffbf9-6c72-42ea-a2de-b42c6526ebcb');\n",
              "        const dataTable =\n",
              "          await google.colab.kernel.invokeFunction('convertToInteractive',\n",
              "                                                    [key], {});\n",
              "        if (!dataTable) return;\n",
              "\n",
              "        const docLinkHtml = 'Like what you see? Visit the ' +\n",
              "          '<a target=\"_blank\" href=https://colab.research.google.com/notebooks/data_table.ipynb>data table notebook</a>'\n",
              "          + ' to learn more about interactive tables.';\n",
              "        element.innerHTML = '';\n",
              "        dataTable['output_type'] = 'display_data';\n",
              "        await google.colab.output.renderOutput(dataTable, element);\n",
              "        const docLink = document.createElement('div');\n",
              "        docLink.innerHTML = docLinkHtml;\n",
              "        element.appendChild(docLink);\n",
              "      }\n",
              "    </script>\n",
              "  </div>\n",
              "\n",
              "\n",
              "<div id=\"df-91463023-45ff-414d-bd2c-5c9528fda141\">\n",
              "  <button class=\"colab-df-quickchart\" onclick=\"quickchart('df-91463023-45ff-414d-bd2c-5c9528fda141')\"\n",
              "            title=\"Suggest charts\"\n",
              "            style=\"display:none;\">\n",
              "\n",
              "<svg xmlns=\"http://www.w3.org/2000/svg\" height=\"24px\"viewBox=\"0 0 24 24\"\n",
              "     width=\"24px\">\n",
              "    <g>\n",
              "        <path d=\"M19 3H5c-1.1 0-2 .9-2 2v14c0 1.1.9 2 2 2h14c1.1 0 2-.9 2-2V5c0-1.1-.9-2-2-2zM9 17H7v-7h2v7zm4 0h-2V7h2v10zm4 0h-2v-4h2v4z\"/>\n",
              "    </g>\n",
              "</svg>\n",
              "  </button>\n",
              "\n",
              "<style>\n",
              "  .colab-df-quickchart {\n",
              "      --bg-color: #E8F0FE;\n",
              "      --fill-color: #1967D2;\n",
              "      --hover-bg-color: #E2EBFA;\n",
              "      --hover-fill-color: #174EA6;\n",
              "      --disabled-fill-color: #AAA;\n",
              "      --disabled-bg-color: #DDD;\n",
              "  }\n",
              "\n",
              "  [theme=dark] .colab-df-quickchart {\n",
              "      --bg-color: #3B4455;\n",
              "      --fill-color: #D2E3FC;\n",
              "      --hover-bg-color: #434B5C;\n",
              "      --hover-fill-color: #FFFFFF;\n",
              "      --disabled-bg-color: #3B4455;\n",
              "      --disabled-fill-color: #666;\n",
              "  }\n",
              "\n",
              "  .colab-df-quickchart {\n",
              "    background-color: var(--bg-color);\n",
              "    border: none;\n",
              "    border-radius: 50%;\n",
              "    cursor: pointer;\n",
              "    display: none;\n",
              "    fill: var(--fill-color);\n",
              "    height: 32px;\n",
              "    padding: 0;\n",
              "    width: 32px;\n",
              "  }\n",
              "\n",
              "  .colab-df-quickchart:hover {\n",
              "    background-color: var(--hover-bg-color);\n",
              "    box-shadow: 0 1px 2px rgba(60, 64, 67, 0.3), 0 1px 3px 1px rgba(60, 64, 67, 0.15);\n",
              "    fill: var(--button-hover-fill-color);\n",
              "  }\n",
              "\n",
              "  .colab-df-quickchart-complete:disabled,\n",
              "  .colab-df-quickchart-complete:disabled:hover {\n",
              "    background-color: var(--disabled-bg-color);\n",
              "    fill: var(--disabled-fill-color);\n",
              "    box-shadow: none;\n",
              "  }\n",
              "\n",
              "  .colab-df-spinner {\n",
              "    border: 2px solid var(--fill-color);\n",
              "    border-color: transparent;\n",
              "    border-bottom-color: var(--fill-color);\n",
              "    animation:\n",
              "      spin 1s steps(1) infinite;\n",
              "  }\n",
              "\n",
              "  @keyframes spin {\n",
              "    0% {\n",
              "      border-color: transparent;\n",
              "      border-bottom-color: var(--fill-color);\n",
              "      border-left-color: var(--fill-color);\n",
              "    }\n",
              "    20% {\n",
              "      border-color: transparent;\n",
              "      border-left-color: var(--fill-color);\n",
              "      border-top-color: var(--fill-color);\n",
              "    }\n",
              "    30% {\n",
              "      border-color: transparent;\n",
              "      border-left-color: var(--fill-color);\n",
              "      border-top-color: var(--fill-color);\n",
              "      border-right-color: var(--fill-color);\n",
              "    }\n",
              "    40% {\n",
              "      border-color: transparent;\n",
              "      border-right-color: var(--fill-color);\n",
              "      border-top-color: var(--fill-color);\n",
              "    }\n",
              "    60% {\n",
              "      border-color: transparent;\n",
              "      border-right-color: var(--fill-color);\n",
              "    }\n",
              "    80% {\n",
              "      border-color: transparent;\n",
              "      border-right-color: var(--fill-color);\n",
              "      border-bottom-color: var(--fill-color);\n",
              "    }\n",
              "    90% {\n",
              "      border-color: transparent;\n",
              "      border-bottom-color: var(--fill-color);\n",
              "    }\n",
              "  }\n",
              "</style>\n",
              "\n",
              "  <script>\n",
              "    async function quickchart(key) {\n",
              "      const quickchartButtonEl =\n",
              "        document.querySelector('#' + key + ' button');\n",
              "      quickchartButtonEl.disabled = true;  // To prevent multiple clicks.\n",
              "      quickchartButtonEl.classList.add('colab-df-spinner');\n",
              "      try {\n",
              "        const charts = await google.colab.kernel.invokeFunction(\n",
              "            'suggestCharts', [key], {});\n",
              "      } catch (error) {\n",
              "        console.error('Error during call to suggestCharts:', error);\n",
              "      }\n",
              "      quickchartButtonEl.classList.remove('colab-df-spinner');\n",
              "      quickchartButtonEl.classList.add('colab-df-quickchart-complete');\n",
              "    }\n",
              "    (() => {\n",
              "      let quickchartButtonEl =\n",
              "        document.querySelector('#df-91463023-45ff-414d-bd2c-5c9528fda141 button');\n",
              "      quickchartButtonEl.style.display =\n",
              "        google.colab.kernel.accessAllowed ? 'block' : 'none';\n",
              "    })();\n",
              "  </script>\n",
              "</div>\n",
              "\n",
              "    </div>\n",
              "  </div>\n"
            ],
            "application/vnd.google.colaboratory.intrinsic+json": {
              "type": "dataframe",
              "variable_name": "train",
              "summary": "{\n  \"name\": \"train\",\n  \"rows\": 6525,\n  \"fields\": [\n    {\n      \"column\": \"TweetId\",\n      \"properties\": {\n        \"dtype\": \"number\",\n        \"std\": 51398190539813376,\n        \"min\": 23909305792,\n        \"max\": 306834146813169667,\n        \"num_unique_values\": 6525,\n        \"samples\": [\n          304591158921818113,\n          305937398846607360,\n          304094994950672384\n        ],\n        \"semantic_type\": \"\",\n        \"description\": \"\"\n      }\n    },\n    {\n      \"column\": \"Label\",\n      \"properties\": {\n        \"dtype\": \"category\",\n        \"num_unique_values\": 2,\n        \"samples\": [\n          \"Sports\",\n          \"Politics\"\n        ],\n        \"semantic_type\": \"\",\n        \"description\": \"\"\n      }\n    },\n    {\n      \"column\": \"TweetText\",\n      \"properties\": {\n        \"dtype\": \"string\",\n        \"num_unique_values\": 6508,\n        \"samples\": [\n          \"'Looks like #Blackpool Manager, Ian Holloway is saving some money from his budget to spend in January.'\",\n          \"'Late night debates at @EP_Economics: #EuropeanSemester and derivatives on agenda. Tune in at 10pm CET http://t.co/UNWHW0g6'\"\n        ],\n        \"semantic_type\": \"\",\n        \"description\": \"\"\n      }\n    },\n    {\n      \"column\": \"CleanTweetText\",\n      \"properties\": {\n        \"dtype\": \"string\",\n        \"num_unique_values\": 6498,\n        \"samples\": [\n          \"khurrum786 tickets will be posted approximately 6 weeks before the tournament starts\",\n          \"rt jduch sd hannesswoboda eubudget deal is unacceptablethere will be no majority for it in parliamentneed real modifications euco\"\n        ],\n        \"semantic_type\": \"\",\n        \"description\": \"\"\n      }\n    }\n  ]\n}"
            }
          },
          "metadata": {},
          "execution_count": 17
        }
      ],
      "source": [
        "train.head()"
      ]
    },
    {
      "cell_type": "markdown",
      "metadata": {
        "id": "Nb77-IpqUA8g"
      },
      "source": [
        "## Most common words\n",
        "\n",
        "If we print a list of the most common words now we are going to notice a common problem."
      ]
    },
    {
      "cell_type": "code",
      "execution_count": 18,
      "metadata": {
        "colab": {
          "base_uri": "https://localhost:8080/",
          "height": 676
        },
        "id": "m2yuIlmwUA8i",
        "outputId": "a4587a00-6193-4189-ba26-98aabbb71e50"
      },
      "outputs": [
        {
          "output_type": "execute_result",
          "data": {
            "text/plain": [
              "<pandas.io.formats.style.Styler at 0x7945d19cfac0>"
            ],
            "text/html": [
              "<style type=\"text/css\">\n",
              "#T_3bfcd_row0_col1 {\n",
              "  background-color: #08306b;\n",
              "  color: #f1f1f1;\n",
              "}\n",
              "#T_3bfcd_row1_col1 {\n",
              "  background-color: #56a0ce;\n",
              "  color: #f1f1f1;\n",
              "}\n",
              "#T_3bfcd_row2_col1 {\n",
              "  background-color: #8fc2de;\n",
              "  color: #000000;\n",
              "}\n",
              "#T_3bfcd_row3_col1 {\n",
              "  background-color: #92c4de;\n",
              "  color: #000000;\n",
              "}\n",
              "#T_3bfcd_row4_col1 {\n",
              "  background-color: #b8d5ea;\n",
              "  color: #000000;\n",
              "}\n",
              "#T_3bfcd_row5_col1 {\n",
              "  background-color: #bed8ec;\n",
              "  color: #000000;\n",
              "}\n",
              "#T_3bfcd_row6_col1 {\n",
              "  background-color: #c7dbef;\n",
              "  color: #000000;\n",
              "}\n",
              "#T_3bfcd_row7_col1 {\n",
              "  background-color: #c9ddf0;\n",
              "  color: #000000;\n",
              "}\n",
              "#T_3bfcd_row8_col1 {\n",
              "  background-color: #d9e8f5;\n",
              "  color: #000000;\n",
              "}\n",
              "#T_3bfcd_row9_col1 {\n",
              "  background-color: #dfecf7;\n",
              "  color: #000000;\n",
              "}\n",
              "#T_3bfcd_row10_col1 {\n",
              "  background-color: #e0ecf8;\n",
              "  color: #000000;\n",
              "}\n",
              "#T_3bfcd_row11_col1 {\n",
              "  background-color: #e6f0f9;\n",
              "  color: #000000;\n",
              "}\n",
              "#T_3bfcd_row12_col1 {\n",
              "  background-color: #f1f7fd;\n",
              "  color: #000000;\n",
              "}\n",
              "#T_3bfcd_row13_col1, #T_3bfcd_row14_col1 {\n",
              "  background-color: #f2f7fd;\n",
              "  color: #000000;\n",
              "}\n",
              "#T_3bfcd_row15_col1 {\n",
              "  background-color: #f4f9fe;\n",
              "  color: #000000;\n",
              "}\n",
              "#T_3bfcd_row16_col1, #T_3bfcd_row17_col1 {\n",
              "  background-color: #f5f9fe;\n",
              "  color: #000000;\n",
              "}\n",
              "#T_3bfcd_row18_col1, #T_3bfcd_row19_col1 {\n",
              "  background-color: #f7fbff;\n",
              "  color: #000000;\n",
              "}\n",
              "</style>\n",
              "<table id=\"T_3bfcd\" class=\"dataframe\">\n",
              "  <thead>\n",
              "    <tr>\n",
              "      <th class=\"blank level0\" >&nbsp;</th>\n",
              "      <th id=\"T_3bfcd_level0_col0\" class=\"col_heading level0 col0\" >Common_words</th>\n",
              "      <th id=\"T_3bfcd_level0_col1\" class=\"col_heading level0 col1\" >Count</th>\n",
              "    </tr>\n",
              "  </thead>\n",
              "  <tbody>\n",
              "    <tr>\n",
              "      <th id=\"T_3bfcd_level0_row0\" class=\"row_heading level0 row0\" >0</th>\n",
              "      <td id=\"T_3bfcd_row0_col0\" class=\"data row0 col0\" >the</td>\n",
              "      <td id=\"T_3bfcd_row0_col1\" class=\"data row0 col1\" >5578</td>\n",
              "    </tr>\n",
              "    <tr>\n",
              "      <th id=\"T_3bfcd_level0_row1\" class=\"row_heading level0 row1\" >1</th>\n",
              "      <td id=\"T_3bfcd_row1_col0\" class=\"data row1 col0\" >to</td>\n",
              "      <td id=\"T_3bfcd_row1_col1\" class=\"data row1 col1\" >3381</td>\n",
              "    </tr>\n",
              "    <tr>\n",
              "      <th id=\"T_3bfcd_level0_row2\" class=\"row_heading level0 row2\" >2</th>\n",
              "      <td id=\"T_3bfcd_row2_col0\" class=\"data row2 col0\" >in</td>\n",
              "      <td id=\"T_3bfcd_row2_col1\" class=\"data row2 col1\" >2596</td>\n",
              "    </tr>\n",
              "    <tr>\n",
              "      <th id=\"T_3bfcd_level0_row3\" class=\"row_heading level0 row3\" >3</th>\n",
              "      <td id=\"T_3bfcd_row3_col0\" class=\"data row3 col0\" >of</td>\n",
              "      <td id=\"T_3bfcd_row3_col1\" class=\"data row3 col1\" >2575</td>\n",
              "    </tr>\n",
              "    <tr>\n",
              "      <th id=\"T_3bfcd_level0_row4\" class=\"row_heading level0 row4\" >4</th>\n",
              "      <td id=\"T_3bfcd_row4_col0\" class=\"data row4 col0\" >a</td>\n",
              "      <td id=\"T_3bfcd_row4_col1\" class=\"data row4 col1\" >2008</td>\n",
              "    </tr>\n",
              "    <tr>\n",
              "      <th id=\"T_3bfcd_level0_row5\" class=\"row_heading level0 row5\" >5</th>\n",
              "      <td id=\"T_3bfcd_row5_col0\" class=\"data row5 col0\" >for</td>\n",
              "      <td id=\"T_3bfcd_row5_col1\" class=\"data row5 col1\" >1924</td>\n",
              "    </tr>\n",
              "    <tr>\n",
              "      <th id=\"T_3bfcd_level0_row6\" class=\"row_heading level0 row6\" >6</th>\n",
              "      <td id=\"T_3bfcd_row6_col0\" class=\"data row6 col0\" >and</td>\n",
              "      <td id=\"T_3bfcd_row6_col1\" class=\"data row6 col1\" >1784</td>\n",
              "    </tr>\n",
              "    <tr>\n",
              "      <th id=\"T_3bfcd_level0_row7\" class=\"row_heading level0 row7\" >7</th>\n",
              "      <td id=\"T_3bfcd_row7_col0\" class=\"data row7 col0\" >on</td>\n",
              "      <td id=\"T_3bfcd_row7_col1\" class=\"data row7 col1\" >1710</td>\n",
              "    </tr>\n",
              "    <tr>\n",
              "      <th id=\"T_3bfcd_level0_row8\" class=\"row_heading level0 row8\" >8</th>\n",
              "      <td id=\"T_3bfcd_row8_col0\" class=\"data row8 col0\" >rt</td>\n",
              "      <td id=\"T_3bfcd_row8_col1\" class=\"data row8 col1\" >1286</td>\n",
              "    </tr>\n",
              "    <tr>\n",
              "      <th id=\"T_3bfcd_level0_row9\" class=\"row_heading level0 row9\" >9</th>\n",
              "      <td id=\"T_3bfcd_row9_col0\" class=\"data row9 col0\" >is</td>\n",
              "      <td id=\"T_3bfcd_row9_col1\" class=\"data row9 col1\" >1134</td>\n",
              "    </tr>\n",
              "    <tr>\n",
              "      <th id=\"T_3bfcd_level0_row10\" class=\"row_heading level0 row10\" >10</th>\n",
              "      <td id=\"T_3bfcd_row10_col0\" class=\"data row10 col0\" >at</td>\n",
              "      <td id=\"T_3bfcd_row10_col1\" class=\"data row10 col1\" >1114</td>\n",
              "    </tr>\n",
              "    <tr>\n",
              "      <th id=\"T_3bfcd_level0_row11\" class=\"row_heading level0 row11\" >11</th>\n",
              "      <td id=\"T_3bfcd_row11_col0\" class=\"data row11 col0\" >with</td>\n",
              "      <td id=\"T_3bfcd_row11_col1\" class=\"data row11 col1\" >973</td>\n",
              "    </tr>\n",
              "    <tr>\n",
              "      <th id=\"T_3bfcd_level0_row12\" class=\"row_heading level0 row12\" >12</th>\n",
              "      <td id=\"T_3bfcd_row12_col0\" class=\"data row12 col0\" >amp</td>\n",
              "      <td id=\"T_3bfcd_row12_col1\" class=\"data row12 col1\" >699</td>\n",
              "    </tr>\n",
              "    <tr>\n",
              "      <th id=\"T_3bfcd_level0_row13\" class=\"row_heading level0 row13\" >13</th>\n",
              "      <td id=\"T_3bfcd_row13_col0\" class=\"data row13 col0\" >you</td>\n",
              "      <td id=\"T_3bfcd_row13_col1\" class=\"data row13 col1\" >670</td>\n",
              "    </tr>\n",
              "    <tr>\n",
              "      <th id=\"T_3bfcd_level0_row14\" class=\"row_heading level0 row14\" >14</th>\n",
              "      <td id=\"T_3bfcd_row14_col0\" class=\"data row14 col0\" >from</td>\n",
              "      <td id=\"T_3bfcd_row14_col1\" class=\"data row14 col1\" >661</td>\n",
              "    </tr>\n",
              "    <tr>\n",
              "      <th id=\"T_3bfcd_level0_row15\" class=\"row_heading level0 row15\" >15</th>\n",
              "      <td id=\"T_3bfcd_row15_col0\" class=\"data row15 col0\" >by</td>\n",
              "      <td id=\"T_3bfcd_row15_col1\" class=\"data row15 col1\" >607</td>\n",
              "    </tr>\n",
              "    <tr>\n",
              "      <th id=\"T_3bfcd_level0_row16\" class=\"row_heading level0 row16\" >16</th>\n",
              "      <td id=\"T_3bfcd_row16_col0\" class=\"data row16 col0\" >will</td>\n",
              "      <td id=\"T_3bfcd_row16_col1\" class=\"data row16 col1\" >598</td>\n",
              "    </tr>\n",
              "    <tr>\n",
              "      <th id=\"T_3bfcd_level0_row17\" class=\"row_heading level0 row17\" >17</th>\n",
              "      <td id=\"T_3bfcd_row17_col0\" class=\"data row17 col0\" >we</td>\n",
              "      <td id=\"T_3bfcd_row17_col1\" class=\"data row17 col1\" >593</td>\n",
              "    </tr>\n",
              "    <tr>\n",
              "      <th id=\"T_3bfcd_level0_row18\" class=\"row_heading level0 row18\" >18</th>\n",
              "      <td id=\"T_3bfcd_row18_col0\" class=\"data row18 col0\" >it</td>\n",
              "      <td id=\"T_3bfcd_row18_col1\" class=\"data row18 col1\" >538</td>\n",
              "    </tr>\n",
              "    <tr>\n",
              "      <th id=\"T_3bfcd_level0_row19\" class=\"row_heading level0 row19\" >19</th>\n",
              "      <td id=\"T_3bfcd_row19_col0\" class=\"data row19 col0\" >be</td>\n",
              "      <td id=\"T_3bfcd_row19_col1\" class=\"data row19 col1\" >522</td>\n",
              "    </tr>\n",
              "  </tbody>\n",
              "</table>\n"
            ]
          },
          "metadata": {},
          "execution_count": 18
        }
      ],
      "source": [
        "train['WordList'] = train['CleanTweetText'].apply(lambda x:str(x).split())\n",
        "test['WordList'] = test['CleanTweetText'].apply(lambda x:str(x).split())\n",
        "top = Counter([item for sublist in pd.concat([train['WordList'], test['WordList']]) for item in sublist])\n",
        "temp = pd.DataFrame(top.most_common(20))\n",
        "temp.columns = ['Common_words','Count']\n",
        "temp.style.background_gradient(cmap='Blues')"
      ]
    },
    {
      "cell_type": "markdown",
      "metadata": {
        "id": "MMOA49cYUA8k"
      },
      "source": [
        "The most frequent words are what is called *stopwords* in Natural Language Processing, and they provide little information about the message, so we are going to have to remove them."
      ]
    },
    {
      "cell_type": "code",
      "execution_count": 19,
      "metadata": {
        "id": "AYo0BzPZUA8l"
      },
      "outputs": [],
      "source": [
        "def remove_stopword(x):\n",
        "    return [y for y in x if y not in stopwords.words('english')]\n",
        "train['WordList'] = train['WordList'].apply(lambda x:remove_stopword(x))\n",
        "test['WordList'] = test['WordList'].apply(lambda x:remove_stopword(x))"
      ]
    },
    {
      "cell_type": "markdown",
      "metadata": {
        "id": "v5boWLeBUA8m"
      },
      "source": [
        "Now let's see what the most common words by category are."
      ]
    },
    {
      "cell_type": "code",
      "execution_count": 20,
      "metadata": {
        "id": "4B3uRSxGUA8n"
      },
      "outputs": [],
      "source": [
        "def split_by_category(df):\n",
        "    df_sports = df.loc[df['Label'] == \"Sports\"]\n",
        "    df_politics = df.loc[df['Label'] == \"Politics\"]\n",
        "    return df_sports, df_politics"
      ]
    },
    {
      "cell_type": "code",
      "execution_count": 21,
      "metadata": {
        "id": "09woVYnoUA8n"
      },
      "outputs": [],
      "source": [
        "train_sports, train_politics = split_by_category(train)"
      ]
    },
    {
      "cell_type": "markdown",
      "metadata": {
        "id": "jRpkIX8BUA8o"
      },
      "source": [
        "### Most common words used to talk about Sports"
      ]
    },
    {
      "cell_type": "code",
      "execution_count": 22,
      "metadata": {
        "colab": {
          "base_uri": "https://localhost:8080/",
          "height": 645
        },
        "id": "OLpKSVQqUA8p",
        "outputId": "4c3f1859-b0d0-4ddf-edd8-0d623471f1c3"
      },
      "outputs": [
        {
          "output_type": "execute_result",
          "data": {
            "text/plain": [
              "<pandas.io.formats.style.Styler at 0x7945d176dea0>"
            ],
            "text/html": [
              "<style type=\"text/css\">\n",
              "#T_75140_row0_col1 {\n",
              "  background-color: #7f2704;\n",
              "  color: #f1f1f1;\n",
              "}\n",
              "#T_75140_row1_col1 {\n",
              "  background-color: #ad3803;\n",
              "  color: #f1f1f1;\n",
              "}\n",
              "#T_75140_row2_col1 {\n",
              "  background-color: #fd994d;\n",
              "  color: #000000;\n",
              "}\n",
              "#T_75140_row3_col1 {\n",
              "  background-color: #fdaf6c;\n",
              "  color: #000000;\n",
              "}\n",
              "#T_75140_row4_col1 {\n",
              "  background-color: #fdb475;\n",
              "  color: #000000;\n",
              "}\n",
              "#T_75140_row5_col1 {\n",
              "  background-color: #fdb77a;\n",
              "  color: #000000;\n",
              "}\n",
              "#T_75140_row6_col1 {\n",
              "  background-color: #fdc692;\n",
              "  color: #000000;\n",
              "}\n",
              "#T_75140_row7_col1 {\n",
              "  background-color: #fdca99;\n",
              "  color: #000000;\n",
              "}\n",
              "#T_75140_row8_col1 {\n",
              "  background-color: #fdd5ad;\n",
              "  color: #000000;\n",
              "}\n",
              "#T_75140_row9_col1 {\n",
              "  background-color: #fdd8b2;\n",
              "  color: #000000;\n",
              "}\n",
              "#T_75140_row10_col1 {\n",
              "  background-color: #fee4ca;\n",
              "  color: #000000;\n",
              "}\n",
              "#T_75140_row11_col1 {\n",
              "  background-color: #fee7d0;\n",
              "  color: #000000;\n",
              "}\n",
              "#T_75140_row12_col1 {\n",
              "  background-color: #fee9d4;\n",
              "  color: #000000;\n",
              "}\n",
              "#T_75140_row13_col1 {\n",
              "  background-color: #feead5;\n",
              "  color: #000000;\n",
              "}\n",
              "#T_75140_row14_col1 {\n",
              "  background-color: #feecd9;\n",
              "  color: #000000;\n",
              "}\n",
              "#T_75140_row15_col1 {\n",
              "  background-color: #fff1e3;\n",
              "  color: #000000;\n",
              "}\n",
              "#T_75140_row16_col1 {\n",
              "  background-color: #fff3e7;\n",
              "  color: #000000;\n",
              "}\n",
              "#T_75140_row17_col1, #T_75140_row18_col1 {\n",
              "  background-color: #fff5eb;\n",
              "  color: #000000;\n",
              "}\n",
              "</style>\n",
              "<table id=\"T_75140\" class=\"dataframe\">\n",
              "  <thead>\n",
              "    <tr>\n",
              "      <th class=\"blank level0\" >&nbsp;</th>\n",
              "      <th id=\"T_75140_level0_col0\" class=\"col_heading level0 col0\" >Common_words</th>\n",
              "      <th id=\"T_75140_level0_col1\" class=\"col_heading level0 col1\" >Count</th>\n",
              "    </tr>\n",
              "  </thead>\n",
              "  <tbody>\n",
              "    <tr>\n",
              "      <th id=\"T_75140_level0_row0\" class=\"row_heading level0 row0\" >1</th>\n",
              "      <td id=\"T_75140_row0_col0\" class=\"data row0 col0\" >indvaus</td>\n",
              "      <td id=\"T_75140_row0_col1\" class=\"data row0 col1\" >347</td>\n",
              "    </tr>\n",
              "    <tr>\n",
              "      <th id=\"T_75140_level0_row1\" class=\"row_heading level0 row1\" >2</th>\n",
              "      <td id=\"T_75140_row1_col0\" class=\"data row1 col0\" >test</td>\n",
              "      <td id=\"T_75140_row1_col1\" class=\"data row1 col1\" >314</td>\n",
              "    </tr>\n",
              "    <tr>\n",
              "      <th id=\"T_75140_level0_row2\" class=\"row_heading level0 row2\" >3</th>\n",
              "      <td id=\"T_75140_row2_col0\" class=\"data row2 col0\" >1st</td>\n",
              "      <td id=\"T_75140_row2_col1\" class=\"data row2 col1\" >220</td>\n",
              "    </tr>\n",
              "    <tr>\n",
              "      <th id=\"T_75140_level0_row3\" class=\"row_heading level0 row3\" >4</th>\n",
              "      <td id=\"T_75140_row3_col0\" class=\"data row3 col0\" >bcci</td>\n",
              "      <td id=\"T_75140_row3_col1\" class=\"data row3 col1\" >201</td>\n",
              "    </tr>\n",
              "    <tr>\n",
              "      <th id=\"T_75140_level0_row4\" class=\"row_heading level0 row4\" >5</th>\n",
              "      <td id=\"T_75140_row4_col0\" class=\"data row4 col0\" >runs</td>\n",
              "      <td id=\"T_75140_row4_col1\" class=\"data row4 col1\" >196</td>\n",
              "    </tr>\n",
              "    <tr>\n",
              "      <th id=\"T_75140_level0_row5\" class=\"row_heading level0 row5\" >6</th>\n",
              "      <td id=\"T_75140_row5_col0\" class=\"data row5 col0\" >bbl02</td>\n",
              "      <td id=\"T_75140_row5_col1\" class=\"data row5 col1\" >194</td>\n",
              "    </tr>\n",
              "    <tr>\n",
              "      <th id=\"T_75140_level0_row6\" class=\"row_heading level0 row6\" >7</th>\n",
              "      <td id=\"T_75140_row6_col0\" class=\"data row6 col0\" >atp</td>\n",
              "      <td id=\"T_75140_row6_col1\" class=\"data row6 col1\" >181</td>\n",
              "    </tr>\n",
              "    <tr>\n",
              "      <th id=\"T_75140_level0_row7\" class=\"row_heading level0 row7\" >8</th>\n",
              "      <td id=\"T_75140_row7_col0\" class=\"data row7 col0\" >amp</td>\n",
              "      <td id=\"T_75140_row7_col1\" class=\"data row7 col1\" >177</td>\n",
              "    </tr>\n",
              "    <tr>\n",
              "      <th id=\"T_75140_level0_row8\" class=\"row_heading level0 row8\" >9</th>\n",
              "      <td id=\"T_75140_row8_col0\" class=\"data row8 col0\" >bigfinals</td>\n",
              "      <td id=\"T_75140_row8_col1\" class=\"data row8 col1\" >165</td>\n",
              "    </tr>\n",
              "    <tr>\n",
              "      <th id=\"T_75140_level0_row9\" class=\"row_heading level0 row9\" >10</th>\n",
              "      <td id=\"T_75140_row9_col0\" class=\"data row9 col0\" >cfc</td>\n",
              "      <td id=\"T_75140_row9_col1\" class=\"data row9 col1\" >162</td>\n",
              "    </tr>\n",
              "    <tr>\n",
              "      <th id=\"T_75140_level0_row10\" class=\"row_heading level0 row10\" >11</th>\n",
              "      <td id=\"T_75140_row10_col0\" class=\"data row10 col0\" >tennis</td>\n",
              "      <td id=\"T_75140_row10_col1\" class=\"data row10 col1\" >146</td>\n",
              "    </tr>\n",
              "    <tr>\n",
              "      <th id=\"T_75140_level0_row11\" class=\"row_heading level0 row11\" >12</th>\n",
              "      <td id=\"T_75140_row11_col0\" class=\"data row11 col0\" >win</td>\n",
              "      <td id=\"T_75140_row11_col1\" class=\"data row11 col1\" >142</td>\n",
              "    </tr>\n",
              "    <tr>\n",
              "      <th id=\"T_75140_level0_row12\" class=\"row_heading level0 row12\" >13</th>\n",
              "      <td id=\"T_75140_row12_col0\" class=\"data row12 col0\" >final</td>\n",
              "      <td id=\"T_75140_row12_col1\" class=\"data row12 col1\" >137</td>\n",
              "    </tr>\n",
              "    <tr>\n",
              "      <th id=\"T_75140_level0_row13\" class=\"row_heading level0 row13\" >14</th>\n",
              "      <td id=\"T_75140_row13_col0\" class=\"data row13 col0\" >first</td>\n",
              "      <td id=\"T_75140_row13_col1\" class=\"data row13 col1\" >136</td>\n",
              "    </tr>\n",
              "    <tr>\n",
              "      <th id=\"T_75140_level0_row14\" class=\"row_heading level0 row14\" >15</th>\n",
              "      <td id=\"T_75140_row14_col0\" class=\"data row14 col0\" >aus</td>\n",
              "      <td id=\"T_75140_row14_col1\" class=\"data row14 col1\" >133</td>\n",
              "    </tr>\n",
              "    <tr>\n",
              "      <th id=\"T_75140_level0_row15\" class=\"row_heading level0 row15\" >16</th>\n",
              "      <td id=\"T_75140_row15_col0\" class=\"data row15 col0\" >india</td>\n",
              "      <td id=\"T_75140_row15_col1\" class=\"data row15 col1\" >123</td>\n",
              "    </tr>\n",
              "    <tr>\n",
              "      <th id=\"T_75140_level0_row16\" class=\"row_heading level0 row16\" >17</th>\n",
              "      <td id=\"T_75140_row16_col0\" class=\"data row16 col0\" >1</td>\n",
              "      <td id=\"T_75140_row16_col1\" class=\"data row16 col1\" >118</td>\n",
              "    </tr>\n",
              "    <tr>\n",
              "      <th id=\"T_75140_level0_row17\" class=\"row_heading level0 row17\" >18</th>\n",
              "      <td id=\"T_75140_row17_col0\" class=\"data row17 col0\" >team</td>\n",
              "      <td id=\"T_75140_row17_col1\" class=\"data row17 col1\" >114</td>\n",
              "    </tr>\n",
              "    <tr>\n",
              "      <th id=\"T_75140_level0_row18\" class=\"row_heading level0 row18\" >19</th>\n",
              "      <td id=\"T_75140_row18_col0\" class=\"data row18 col0\" >game</td>\n",
              "      <td id=\"T_75140_row18_col1\" class=\"data row18 col1\" >114</td>\n",
              "    </tr>\n",
              "  </tbody>\n",
              "</table>\n"
            ]
          },
          "metadata": {},
          "execution_count": 22
        }
      ],
      "source": [
        "top_sports = Counter([item for sublist in train_sports['WordList'] for item in sublist])\n",
        "temp = pd.DataFrame(top_sports.most_common(20))\n",
        "temp = temp.iloc[1:,:]\n",
        "temp.columns = ['Common_words','Count']\n",
        "temp.style.background_gradient(cmap='Oranges')"
      ]
    },
    {
      "cell_type": "markdown",
      "metadata": {
        "id": "klw3yuBXUA8r"
      },
      "source": [
        "### Most common words used to talk about Politics"
      ]
    },
    {
      "cell_type": "code",
      "execution_count": 23,
      "metadata": {
        "colab": {
          "base_uri": "https://localhost:8080/",
          "height": 645
        },
        "id": "UkZ8ONT2UA8s",
        "outputId": "a95f10d9-2bbb-42d0-98b2-2f31eb0a0129"
      },
      "outputs": [
        {
          "output_type": "execute_result",
          "data": {
            "text/plain": [
              "<pandas.io.formats.style.Styler at 0x7945d1a6e8f0>"
            ],
            "text/html": [
              "<style type=\"text/css\">\n",
              "#T_3daf3_row0_col1 {\n",
              "  background-color: #3f007d;\n",
              "  color: #f1f1f1;\n",
              "}\n",
              "#T_3daf3_row1_col1 {\n",
              "  background-color: #582f93;\n",
              "  color: #f1f1f1;\n",
              "}\n",
              "#T_3daf3_row2_col1 {\n",
              "  background-color: #9f9cc9;\n",
              "  color: #f1f1f1;\n",
              "}\n",
              "#T_3daf3_row3_col1 {\n",
              "  background-color: #cdcde4;\n",
              "  color: #000000;\n",
              "}\n",
              "#T_3daf3_row4_col1 {\n",
              "  background-color: #e3e2ef;\n",
              "  color: #000000;\n",
              "}\n",
              "#T_3daf3_row5_col1 {\n",
              "  background-color: #e6e5f1;\n",
              "  color: #000000;\n",
              "}\n",
              "#T_3daf3_row6_col1 {\n",
              "  background-color: #e8e6f2;\n",
              "  color: #000000;\n",
              "}\n",
              "#T_3daf3_row7_col1 {\n",
              "  background-color: #efedf5;\n",
              "  color: #000000;\n",
              "}\n",
              "#T_3daf3_row8_col1 {\n",
              "  background-color: #f0eef6;\n",
              "  color: #000000;\n",
              "}\n",
              "#T_3daf3_row9_col1 {\n",
              "  background-color: #f1eff6;\n",
              "  color: #000000;\n",
              "}\n",
              "#T_3daf3_row10_col1 {\n",
              "  background-color: #f2f0f7;\n",
              "  color: #000000;\n",
              "}\n",
              "#T_3daf3_row11_col1 {\n",
              "  background-color: #f3f2f8;\n",
              "  color: #000000;\n",
              "}\n",
              "#T_3daf3_row12_col1, #T_3daf3_row13_col1 {\n",
              "  background-color: #f4f2f8;\n",
              "  color: #000000;\n",
              "}\n",
              "#T_3daf3_row14_col1 {\n",
              "  background-color: #f4f3f8;\n",
              "  color: #000000;\n",
              "}\n",
              "#T_3daf3_row15_col1 {\n",
              "  background-color: #f7f6fa;\n",
              "  color: #000000;\n",
              "}\n",
              "#T_3daf3_row16_col1 {\n",
              "  background-color: #faf8fb;\n",
              "  color: #000000;\n",
              "}\n",
              "#T_3daf3_row17_col1 {\n",
              "  background-color: #faf9fc;\n",
              "  color: #000000;\n",
              "}\n",
              "#T_3daf3_row18_col1 {\n",
              "  background-color: #fcfbfd;\n",
              "  color: #000000;\n",
              "}\n",
              "</style>\n",
              "<table id=\"T_3daf3\" class=\"dataframe\">\n",
              "  <thead>\n",
              "    <tr>\n",
              "      <th class=\"blank level0\" >&nbsp;</th>\n",
              "      <th id=\"T_3daf3_level0_col0\" class=\"col_heading level0 col0\" >Common_words</th>\n",
              "      <th id=\"T_3daf3_level0_col1\" class=\"col_heading level0 col1\" >Count</th>\n",
              "    </tr>\n",
              "  </thead>\n",
              "  <tbody>\n",
              "    <tr>\n",
              "      <th id=\"T_3daf3_level0_row0\" class=\"row_heading level0 row0\" >1</th>\n",
              "      <td id=\"T_3daf3_row0_col0\" class=\"data row0 col0\" >rt</td>\n",
              "      <td id=\"T_3daf3_row0_col1\" class=\"data row0 col1\" >368</td>\n",
              "    </tr>\n",
              "    <tr>\n",
              "      <th id=\"T_3daf3_level0_row1\" class=\"row_heading level0 row1\" >2</th>\n",
              "      <td id=\"T_3daf3_row1_col0\" class=\"data row1 col0\" >president</td>\n",
              "      <td id=\"T_3daf3_row1_col1\" class=\"data row1 col1\" >329</td>\n",
              "    </tr>\n",
              "    <tr>\n",
              "      <th id=\"T_3daf3_level0_row2\" class=\"row_heading level0 row2\" >3</th>\n",
              "      <td id=\"T_3daf3_row2_col0\" class=\"data row2 col0\" >obama</td>\n",
              "      <td id=\"T_3daf3_row2_col1\" class=\"data row2 col1\" >236</td>\n",
              "    </tr>\n",
              "    <tr>\n",
              "      <th id=\"T_3daf3_level0_row3\" class=\"row_heading level0 row3\" >4</th>\n",
              "      <td id=\"T_3daf3_row3_col0\" class=\"data row3 col0\" >pm</td>\n",
              "      <td id=\"T_3daf3_row3_col1\" class=\"data row3 col1\" >188</td>\n",
              "    </tr>\n",
              "    <tr>\n",
              "      <th id=\"T_3daf3_level0_row4\" class=\"row_heading level0 row4\" >5</th>\n",
              "      <td id=\"T_3daf3_row4_col0\" class=\"data row4 col0\" >conference</td>\n",
              "      <td id=\"T_3daf3_row4_col1\" class=\"data row4 col1\" >159</td>\n",
              "    </tr>\n",
              "    <tr>\n",
              "      <th id=\"T_3daf3_level0_row5\" class=\"row_heading level0 row5\" >6</th>\n",
              "      <td id=\"T_3daf3_row5_col0\" class=\"data row5 col0\" >video</td>\n",
              "      <td id=\"T_3daf3_row5_col1\" class=\"data row5 col1\" >155</td>\n",
              "    </tr>\n",
              "    <tr>\n",
              "      <th id=\"T_3daf3_level0_row6\" class=\"row_heading level0 row6\" >7</th>\n",
              "      <td id=\"T_3daf3_row6_col0\" class=\"data row6 col0\" >new</td>\n",
              "      <td id=\"T_3daf3_row6_col1\" class=\"data row6 col1\" >152</td>\n",
              "    </tr>\n",
              "    <tr>\n",
              "      <th id=\"T_3daf3_level0_row7\" class=\"row_heading level0 row7\" >8</th>\n",
              "      <td id=\"T_3daf3_row7_col0\" class=\"data row7 col0\" >press</td>\n",
              "      <td id=\"T_3daf3_row7_col1\" class=\"data row7 col1\" >140</td>\n",
              "    </tr>\n",
              "    <tr>\n",
              "      <th id=\"T_3daf3_level0_row8\" class=\"row_heading level0 row8\" >9</th>\n",
              "      <td id=\"T_3daf3_row8_col0\" class=\"data row8 col0\" >medvedev</td>\n",
              "      <td id=\"T_3daf3_row8_col1\" class=\"data row8 col1\" >138</td>\n",
              "    </tr>\n",
              "    <tr>\n",
              "      <th id=\"T_3daf3_level0_row9\" class=\"row_heading level0 row9\" >10</th>\n",
              "      <td id=\"T_3daf3_row9_col0\" class=\"data row9 col0\" >nelsonmandela</td>\n",
              "      <td id=\"T_3daf3_row9_col1\" class=\"data row9 col1\" >136</td>\n",
              "    </tr>\n",
              "    <tr>\n",
              "      <th id=\"T_3daf3_level0_row10\" class=\"row_heading level0 row10\" >11</th>\n",
              "      <td id=\"T_3daf3_row10_col0\" class=\"data row10 col0\" >live</td>\n",
              "      <td id=\"T_3daf3_row10_col1\" class=\"data row10 col1\" >134</td>\n",
              "    </tr>\n",
              "    <tr>\n",
              "      <th id=\"T_3daf3_level0_row11\" class=\"row_heading level0 row11\" >12</th>\n",
              "      <td id=\"T_3daf3_row11_col0\" class=\"data row11 col0\" >cabinet</td>\n",
              "      <td id=\"T_3daf3_row11_col1\" class=\"data row11 col1\" >130</td>\n",
              "    </tr>\n",
              "    <tr>\n",
              "      <th id=\"T_3daf3_level0_row12\" class=\"row_heading level0 row12\" >13</th>\n",
              "      <td id=\"T_3daf3_row12_col0\" class=\"data row12 col0\" >chief</td>\n",
              "      <td id=\"T_3daf3_row12_col1\" class=\"data row12 col1\" >129</td>\n",
              "    </tr>\n",
              "    <tr>\n",
              "      <th id=\"T_3daf3_level0_row13\" class=\"row_heading level0 row13\" >14</th>\n",
              "      <td id=\"T_3daf3_row13_col0\" class=\"data row13 col0\" >us</td>\n",
              "      <td id=\"T_3daf3_row13_col1\" class=\"data row13 col1\" >129</td>\n",
              "    </tr>\n",
              "    <tr>\n",
              "      <th id=\"T_3daf3_level0_row14\" class=\"row_heading level0 row14\" >15</th>\n",
              "      <td id=\"T_3daf3_row14_col0\" class=\"data row14 col0\" >secretary</td>\n",
              "      <td id=\"T_3daf3_row14_col1\" class=\"data row14 col1\" >128</td>\n",
              "    </tr>\n",
              "    <tr>\n",
              "      <th id=\"T_3daf3_level0_row15\" class=\"row_heading level0 row15\" >16</th>\n",
              "      <td id=\"T_3daf3_row15_col0\" class=\"data row15 col0\" >meeting</td>\n",
              "      <td id=\"T_3daf3_row15_col1\" class=\"data row15 col1\" >121</td>\n",
              "    </tr>\n",
              "    <tr>\n",
              "      <th id=\"T_3daf3_level0_row16\" class=\"row_heading level0 row16\" >17</th>\n",
              "      <td id=\"T_3daf3_row16_col0\" class=\"data row16 col0\" >prime</td>\n",
              "      <td id=\"T_3daf3_row16_col1\" class=\"data row16 col1\" >115</td>\n",
              "    </tr>\n",
              "    <tr>\n",
              "      <th id=\"T_3daf3_level0_row17\" class=\"row_heading level0 row17\" >18</th>\n",
              "      <td id=\"T_3daf3_row17_col0\" class=\"data row17 col0\" >minister</td>\n",
              "      <td id=\"T_3daf3_row17_col1\" class=\"data row17 col1\" >114</td>\n",
              "    </tr>\n",
              "    <tr>\n",
              "      <th id=\"T_3daf3_level0_row18\" class=\"row_heading level0 row18\" >19</th>\n",
              "      <td id=\"T_3daf3_row18_col0\" class=\"data row18 col0\" >people</td>\n",
              "      <td id=\"T_3daf3_row18_col1\" class=\"data row18 col1\" >108</td>\n",
              "    </tr>\n",
              "  </tbody>\n",
              "</table>\n"
            ]
          },
          "metadata": {},
          "execution_count": 23
        }
      ],
      "source": [
        "top_politics = Counter([item for sublist in train_politics['WordList'] for item in sublist])\n",
        "temp = pd.DataFrame(top_politics.most_common(20))\n",
        "temp = temp.iloc[1:,:]\n",
        "temp.columns = ['Common_words','Count']\n",
        "temp.style.background_gradient(cmap='Purples')"
      ]
    },
    {
      "cell_type": "markdown",
      "metadata": {
        "id": "oxqsZOhQUA8v"
      },
      "source": [
        "Are we can see, now the different topics use clearly different words."
      ]
    },
    {
      "cell_type": "code",
      "execution_count": 24,
      "metadata": {
        "id": "tsoO0wsxUA8w"
      },
      "outputs": [],
      "source": [
        "def plot_wordcloud(text, mask=None, max_words=200, max_font_size=100, figure_size=(24.0,16.0), color = 'white',\n",
        "                   title = None, title_size=40, image_color=False):\n",
        "    stopwords = set(STOPWORDS)\n",
        "    more_stopwords = {'u', \"im\"}\n",
        "    stopwords = stopwords.union(more_stopwords)\n",
        "\n",
        "    wordcloud = WordCloud(background_color=color,\n",
        "                    stopwords = stopwords,\n",
        "                    max_words = max_words,\n",
        "                    max_font_size = max_font_size,\n",
        "                    random_state = 42,\n",
        "                    width=400,\n",
        "                    height=200,\n",
        "                    mask = mask)\n",
        "    wordcloud.generate(str(text).replace(\"'\",''))\n",
        "\n",
        "    plt.figure(figsize=figure_size)\n",
        "    if image_color:\n",
        "        image_colors = ImageColorGenerator(mask);\n",
        "        plt.imshow(wordcloud.recolor(color_func=image_colors), interpolation=\"bilinear\");\n",
        "        plt.title(title, fontdict={'size': title_size,\n",
        "                                  'verticalalignment': 'bottom'})\n",
        "    else:\n",
        "        plt.imshow(wordcloud);\n",
        "        plt.title(title, fontdict={'size': title_size, 'color': 'black',\n",
        "                                  'verticalalignment': 'bottom'})\n",
        "    plt.axis('off');\n",
        "    # plt.tight_layout()"
      ]
    },
    {
      "cell_type": "markdown",
      "metadata": {
        "id": "tLavaFx7UA8y"
      },
      "source": [
        "## Wordclouds\n",
        "\n",
        "Let's visualize the most used words per category with wordclouds."
      ]
    },
    {
      "cell_type": "markdown",
      "metadata": {
        "id": "DmVmYZQyUA80"
      },
      "source": [
        "### Sports wordcloud"
      ]
    },
    {
      "cell_type": "code",
      "execution_count": 25,
      "metadata": {
        "colab": {
          "base_uri": "https://localhost:8080/",
          "height": 599
        },
        "id": "vGBKtVoBUA81",
        "outputId": "f3c76d8d-c8be-4484-ab2a-586791ba9125"
      },
      "outputs": [
        {
          "output_type": "display_data",
          "data": {
            "text/plain": [
              "<Figure size 2400x1600 with 1 Axes>"
            ],
            "image/png": "[encoded data removed]"
          },
          "metadata": {}
        }
      ],
      "source": [
        "plot_wordcloud(top_sports.most_common(40),color='white',max_font_size=100,title_size=30,title=\"WordCloud of Sport-related Tweets\")"
      ]
    },
    {
      "cell_type": "markdown",
      "metadata": {
        "id": "xIk_Iqk6UA83"
      },
      "source": [
        "### Politics wordcloud"
      ]
    },
    {
      "cell_type": "code",
      "execution_count": 26,
      "metadata": {
        "colab": {
          "base_uri": "https://localhost:8080/",
          "height": 599
        },
        "id": "ZgcX3LHwUA84",
        "outputId": "03d9894f-1328-4d67-9e21-64af580576b5"
      },
      "outputs": [
        {
          "output_type": "display_data",
          "data": {
            "text/plain": [
              "<Figure size 2400x1600 with 1 Axes>"
            ],
            "image/png": "[encoded data removed]"
          },
          "metadata": {}
        }
      ],
      "source": [
        "plot_wordcloud(top_politics.most_common(40),color='white',max_font_size=100,title_size=30,title=\"WordCloud of Politics-related Tweets\")"
      ]
    },
    {
      "cell_type": "markdown",
      "metadata": {
        "id": "lxKUkETuUA86"
      },
      "source": [
        "# Feature extraction\n",
        "\n",
        "Feature extraction is the process of extracting useful features from raw data. We are going to use different approaches to study our data."
      ]
    },
    {
      "cell_type": "markdown",
      "metadata": {
        "id": "P-gokul-UA87"
      },
      "source": [
        "## Word Frequency\n",
        "\n",
        "Our first approach will be looking at word frequency. Word frequency is a feature extraction method used in natural language processing and information retrieval that involves counting the frequency of each word in a corpus of documents, and using the resulting counts as features."
      ]
    },
    {
      "cell_type": "code",
      "execution_count": 27,
      "metadata": {
        "colab": {
          "base_uri": "https://localhost:8080/",
          "height": 49,
          "referenced_widgets": [
            "b8e8eeac752047ec805e8b4bcc173d4a",
            "2929ab574aea4e53bf611747a2cc74e1",
            "88c90955e30a475bada4abe89186820c",
            "425fba71c9e44372ae52af5979090b38",
            "01d51506b7ae4c03a9e22b6dda65f604",
            "89f35d9c35dd40668bd77278c046bb6d",
            "f7cddf5b92a041608252218d73ecef97",
            "4b6c758e9cf1454e95b4d5df273e9612",
            "67e269639d694d1e8da67d41b1c7281f",
            "bca94d85c9934a488057af6ff49c654c",
            "35614c762abb4f7da3127c65de64c7b9"
          ]
        },
        "id": "OkwvJIKZUA88",
        "outputId": "84e2a148-aedb-4e17-fb38-4c6733bddd56"
      },
      "outputs": [
        {
          "output_type": "display_data",
          "data": {
            "text/plain": [
              "  0%|          | 0/6525 [00:00<?, ?it/s]"
            ],
            "application/vnd.jupyter.widget-view+json": {
              "version_major": 2,
              "version_minor": 0,
              "model_id": "b8e8eeac752047ec805e8b4bcc173d4a"
            }
          },
          "metadata": {}
        }
      ],
      "source": [
        "train_tweet_tokens = train['WordList']\n",
        "\n",
        "# Get a set of all the unique words\n",
        "train_vocab = set([word for tweet in train_tweet_tokens for word in tweet])\n",
        "\n",
        "# Convert the set back to a list\n",
        "train_vocab = list(train_vocab)\n",
        "\n",
        "# Create a one-hot encoded matrix\n",
        "X_train = np.zeros((len(train_tweet_tokens), len(train_vocab)))\n",
        "\n",
        "# Iterate over the tweet tokens and vocab and fill in the matrix\n",
        "for i, tweet in tqdm(enumerate(train_tweet_tokens), total=len(train_tweet_tokens)):\n",
        "    for j, word in enumerate(train_vocab):\n",
        "        X_train[i, j] = tweet.count(word)"
      ]
    },
    {
      "cell_type": "code",
      "execution_count": 28,
      "metadata": {
        "id": "gQN9dlUAUA89"
      },
      "outputs": [],
      "source": [
        "y_train = train['Label'].to_numpy()"
      ]
    },
    {
      "cell_type": "code",
      "execution_count": 29,
      "metadata": {
        "colab": {
          "base_uri": "https://localhost:8080/",
          "height": 49,
          "referenced_widgets": [
            "99ba770abd404220848aa9c971732405",
            "d786133a6d504288afe78213213595c2",
            "834af5d0a8994319ad84171e33e76969",
            "aa5b71658d614f75b88f0ef351d81aaa",
            "9189b486717b4619b99950234e4cbe33",
            "ac19ea725d8f43ea93f0f94468a11182",
            "fab3133e8fd643c4901772721a72b466",
            "836cc921460040c9982dbb25b8be47f4",
            "5aa001589c4641478bbffce13e44c80d",
            "9838fb53fc32465794e2e5301f21b4f9",
            "70af3636f145476897137d3ead732655"
          ]
        },
        "id": "8saQr4A7UA8_",
        "outputId": "138e67e1-1f71-4435-c122-25996da01a53"
      },
      "outputs": [
        {
          "output_type": "display_data",
          "data": {
            "text/plain": [
              "  0%|          | 0/2610 [00:00<?, ?it/s]"
            ],
            "application/vnd.jupyter.widget-view+json": {
              "version_major": 2,
              "version_minor": 0,
              "model_id": "99ba770abd404220848aa9c971732405"
            }
          },
          "metadata": {}
        }
      ],
      "source": [
        "test_tweet_tokens = test['WordList']\n",
        "X_test = np.zeros((len(test_tweet_tokens), len(train_vocab)))\n",
        "\n",
        "for i, tweet in tqdm(enumerate(test_tweet_tokens), total=len(test_tweet_tokens)):\n",
        "    for j, word in enumerate(train_vocab):\n",
        "        X_test[i, j] = tweet.count(word)"
      ]
    },
    {
      "cell_type": "markdown",
      "metadata": {
        "id": "cGP6ROtKUA9B"
      },
      "source": [
        "We compare the vocabs in the train and test set."
      ]
    },
    {
      "cell_type": "code",
      "execution_count": 30,
      "metadata": {
        "id": "WgMObqRrUA9C"
      },
      "outputs": [],
      "source": [
        "test_tweet_tokens = test['WordList']\n",
        "\n",
        "# Get a set of all the unique words\n",
        "test_vocab = set([word for tweet in test_tweet_tokens for word in tweet])\n",
        "\n",
        "# Convert the set back to a list\n",
        "test_vocab = list(test_vocab)"
      ]
    },
    {
      "cell_type": "code",
      "execution_count": 31,
      "metadata": {
        "colab": {
          "base_uri": "https://localhost:8080/"
        },
        "id": "AjUmA1pUUA9E",
        "outputId": "573fde3e-0f6e-4490-f231-8700cd4c180b"
      },
      "outputs": [
        {
          "output_type": "stream",
          "name": "stdout",
          "text": [
            "14727 7456\n"
          ]
        }
      ],
      "source": [
        "print(len(train_vocab), len(test_vocab))"
      ]
    },
    {
      "cell_type": "markdown",
      "metadata": {
        "id": "EdpXNqXRUA9F"
      },
      "source": [
        "The test set has a much smaller pool of words. Let's see if there are any words in the test set that aren't in the train set."
      ]
    },
    {
      "cell_type": "code",
      "execution_count": 32,
      "metadata": {
        "colab": {
          "base_uri": "https://localhost:8080/"
        },
        "id": "2oaQcXpCUA9G",
        "outputId": "72644d46-edfe-4f04-a3b3-a0d29d440a63"
      },
      "outputs": [
        {
          "output_type": "stream",
          "name": "stdout",
          "text": [
            "Not all words in test_vocab are present in train_vocab\n"
          ]
        }
      ],
      "source": [
        "if all(word in train_vocab for word in test_vocab):\n",
        "  print(\"All words in test_vocab are present in train_vocab\")\n",
        "else:\n",
        "  print(\"Not all words in test_vocab are present in train_vocab\")"
      ]
    },
    {
      "cell_type": "markdown",
      "metadata": {
        "id": "XLyh1R3lUA9H"
      },
      "source": [
        "Let's see how many."
      ]
    },
    {
      "cell_type": "code",
      "execution_count": 33,
      "metadata": {
        "colab": {
          "base_uri": "https://localhost:8080/"
        },
        "id": "NfrmG3vEUA9I",
        "outputId": "62d502a5-580d-447a-e698-ce100873cfec"
      },
      "outputs": [
        {
          "output_type": "execute_result",
          "data": {
            "text/plain": [
              "3628"
            ]
          },
          "metadata": {},
          "execution_count": 33
        }
      ],
      "source": [
        "len([word for word in test_vocab if word not in train_vocab])"
      ]
    },
    {
      "cell_type": "markdown",
      "metadata": {
        "id": "fzTcnVF1UA9K"
      },
      "source": [
        "About half of the words in the test set are not in the train set. This tells us that word frequency is not going to be a very useful predictor on the test set, since most of the context is going to be different. Let us proceed anyhow."
      ]
    },
    {
      "cell_type": "markdown",
      "metadata": {
        "id": "XxXCCCtnUA9L"
      },
      "source": [
        "Let's see how our train matrix looks like."
      ]
    },
    {
      "cell_type": "code",
      "execution_count": 34,
      "metadata": {
        "colab": {
          "base_uri": "https://localhost:8080/",
          "height": 302
        },
        "id": "RBlm_jWvUA9M",
        "outputId": "e16b4ab5-7293-4fd8-c47e-12d5e19f782c"
      },
      "outputs": [
        {
          "output_type": "execute_result",
          "data": {
            "text/plain": [
              "<matplotlib.image.AxesImage at 0x7945d11d0e20>"
            ]
          },
          "metadata": {},
          "execution_count": 34
        },
        {
          "output_type": "display_data",
          "data": {
            "text/plain": [
              "<Figure size 640x480 with 1 Axes>"
            ],
            "image/png": "[encoded data removed]"
          },
          "metadata": {}
        }
      ],
      "source": [
        "plt.spy(X_train)"
      ]
    },
    {
      "cell_type": "markdown",
      "metadata": {
        "id": "0PWlgVhxUA9N"
      },
      "source": [
        "We can see it's extremely sparse. Some dimentionality reduction would be useful."
      ]
    },
    {
      "cell_type": "markdown",
      "metadata": {
        "id": "739sL2C2UA9O"
      },
      "source": [
        "### Frequency Threshold\n",
        "\n",
        "To reduce the dimensionality of the dataset, we can put a theshold on the minimum frequency a word needs to have to appear as a feature."
      ]
    },
    {
      "cell_type": "code",
      "execution_count": 35,
      "metadata": {
        "colab": {
          "base_uri": "https://localhost:8080/"
        },
        "id": "tde3SU7QUA9Q",
        "outputId": "ad45dff2-d186-4eb5-b5e0-176c98def40a"
      },
      "outputs": [
        {
          "output_type": "stream",
          "name": "stdout",
          "text": [
            "               Word  Frequency\n",
            "3880             rt      891.0\n",
            "11986           amp      599.0\n",
            "6963        indvaus      347.0\n",
            "11396     president      330.0\n",
            "3167           test      328.0\n",
            "...             ...        ...\n",
            "14672        tablet        1.0\n",
            "14675  electrifying        1.0\n",
            "14676          howd        1.0\n",
            "14677         ankle        1.0\n",
            "14678       100test        1.0\n",
            "\n",
            "[14727 rows x 2 columns]\n"
          ]
        }
      ],
      "source": [
        "train_vocab_freqs = np.sum(X_train, axis=0)\n",
        "\n",
        "# Get the list of words\n",
        "words = [word for word in train_vocab]\n",
        "\n",
        "# Create a dataframe with the words and frequencies\n",
        "word_frequencies = pd.DataFrame({'Word': train_vocab, 'Frequency': train_vocab_freqs})\n",
        "\n",
        "# Sort the dataframe by frequency in descending order\n",
        "word_frequencies = word_frequencies.sort_values(by='Frequency', ascending=False)\n",
        "\n",
        "# Display the dataframe\n",
        "print(word_frequencies)"
      ]
    },
    {
      "cell_type": "code",
      "execution_count": 36,
      "metadata": {
        "colab": {
          "base_uri": "https://localhost:8080/",
          "height": 502
        },
        "id": "OLg7hYawUA9S",
        "outputId": "9f3fc767-9104-4951-f7ad-9b121e82c71b"
      },
      "outputs": [
        {
          "output_type": "display_data",
          "data": {
            "text/plain": [
              "<Figure size 640x480 with 1 Axes>"
            ],
            "image/png": "[encoded data removed]"
          },
          "metadata": {}
        }
      ],
      "source": [
        "plt.plot(word_frequencies['Word'], word_frequencies['Frequency'])\n",
        "\n",
        "plt.title('Word Frequencies')\n",
        "plt.ylabel('Frequency')\n",
        "plt.xlabel('Word')\n",
        "plt.xticks(range(0, len(word_frequencies['Word']),500), range(0, len(word_frequencies['Word']),500), rotation=90)\n",
        "\n",
        "# Show the plot\n",
        "plt.show()"
      ]
    },
    {
      "cell_type": "markdown",
      "metadata": {
        "id": "48JEaSbeUA9U"
      },
      "source": [
        "Only the words in the top 1000 have high usage, after that usage drops drastically. We could probably discard a lot of those words without losing much accuracy."
      ]
    },
    {
      "cell_type": "code",
      "execution_count": 37,
      "metadata": {
        "colab": {
          "base_uri": "https://localhost:8080/",
          "height": 484
        },
        "id": "3IBVFTZ6UA9U",
        "outputId": "c07b3906-d9af-4409-db59-c4a83680c702"
      },
      "outputs": [
        {
          "output_type": "display_data",
          "data": {
            "text/plain": [
              "<Figure size 640x480 with 1 Axes>"
            ],
            "image/png": "[encoded data removed]"
          },
          "metadata": {}
        }
      ],
      "source": [
        "plt.plot(word_frequencies['Word'][0:1000], word_frequencies['Frequency'][0:1000])\n",
        "\n",
        "plt.title('Word Frequencies')\n",
        "plt.ylabel('Frequency')\n",
        "plt.xlabel('Word')\n",
        "plt.xticks(range(0, 1000, 50), range(0, 1000, 50), rotation=90)\n",
        "\n",
        "plt.show()"
      ]
    },
    {
      "cell_type": "code",
      "execution_count": 38,
      "metadata": {
        "id": "PHHvWr0kUA9V"
      },
      "outputs": [],
      "source": [
        "# Sort dataset columns by descending word frequencies\n",
        "X_train = X_train[:, list(word_frequencies.index)]\n",
        "X_test = X_test[:, list(word_frequencies.index)]"
      ]
    },
    {
      "cell_type": "code",
      "execution_count": 39,
      "metadata": {
        "id": "op9t0-5bUA9W"
      },
      "outputs": [],
      "source": [
        "# Cut the dataset by minimum frequency\n",
        "def frequency_threshold_cut(dataset, threshold):\n",
        "    return dataset[:, 0:threshold]"
      ]
    },
    {
      "cell_type": "markdown",
      "metadata": {
        "id": "M7ivlDOvUA9Y"
      },
      "source": [
        "### PCA\n",
        "\n",
        "We will use Principal Component Analysis to reduce the dimentionality of the word frequency reperesention by adjusting the number of principal components."
      ]
    },
    {
      "cell_type": "code",
      "execution_count": 40,
      "metadata": {
        "id": "PePnYqcQUA9Z"
      },
      "outputs": [],
      "source": [
        "pca = PCA(n_components=2)\n",
        "\n",
        "pca.fit(X_train)\n",
        "\n",
        "X_train_pca = pca.transform(X_train)\n",
        "\n",
        "# Extract the data projected to the principal components\n",
        "x = X_train_pca[:, 0]\n",
        "y = X_train_pca[:, 1]\n",
        "\n"
      ]
    },
    {
      "cell_type": "code",
      "source": [
        "# Create a scatter plot with different colors for the points\n",
        "plt.scatter(x, y, c=[1 if label=='Politics' else 0 for label in y_train])\n",
        "\n",
        "# Show the plot\n",
        "plt.show()"
      ],
      "metadata": {
        "colab": {
          "base_uri": "https://localhost:8080/",
          "height": 430
        },
        "id": "WfABpCnETm5e",
        "outputId": "4558231e-c5cc-4715-9d37-4468d888fb7e"
      },
      "execution_count": 41,
      "outputs": [
        {
          "output_type": "display_data",
          "data": {
            "text/plain": [
              "<Figure size 640x480 with 1 Axes>"
            ],
            "image/png": "[encoded data removed]"
          },
          "metadata": {}
        }
      ]
    },
    {
      "cell_type": "markdown",
      "metadata": {
        "id": "qr3RdVLMUA9a"
      },
      "source": [
        "The graph shows that the majority of the *Sports* tweets and the *Politics* tweets can be separated with just 2 principal components."
      ]
    },
    {
      "cell_type": "code",
      "execution_count": 42,
      "metadata": {
        "colab": {
          "base_uri": "https://localhost:8080/",
          "height": 75
        },
        "id": "1kkObrv8UA9c",
        "outputId": "c01dacce-79c5-4863-d23c-7a6b879105b8"
      },
      "outputs": [
        {
          "output_type": "execute_result",
          "data": {
            "text/plain": [
              "PCA(n_components=6525)"
            ],
            "text/html": [
              "<style>#sk-container-id-1 {color: black;background-color: white;}#sk-container-id-1 pre{padding: 0;}#sk-container-id-1 div.sk-toggleable {background-color: white;}#sk-container-id-1 label.sk-toggleable__label {cursor: pointer;display: block;width: 100%;margin-bottom: 0;padding: 0.3em;box-sizing: border-box;text-align: center;}#sk-container-id-1 label.sk-toggleable__label-arrow:before {content: \"▸\";float: left;margin-right: 0.25em;color: #696969;}#sk-container-id-1 label.sk-toggleable__label-arrow:hover:before {color: black;}#sk-container-id-1 div.sk-estimator:hover label.sk-toggleable__label-arrow:before {color: black;}#sk-container-id-1 div.sk-toggleable__content {max-height: 0;max-width: 0;overflow: hidden;text-align: left;background-color: #f0f8ff;}#sk-container-id-1 div.sk-toggleable__content pre {margin: 0.2em;color: black;border-radius: 0.25em;background-color: #f0f8ff;}#sk-container-id-1 input.sk-toggleable__control:checked~div.sk-toggleable__content {max-height: 200px;max-width: 100%;overflow: auto;}#sk-container-id-1 input.sk-toggleable__control:checked~label.sk-toggleable__label-arrow:before {content: \"▾\";}#sk-container-id-1 div.sk-estimator input.sk-toggleable__control:checked~label.sk-toggleable__label {background-color: #d4ebff;}#sk-container-id-1 div.sk-label input.sk-toggleable__control:checked~label.sk-toggleable__label {background-color: #d4ebff;}#sk-container-id-1 input.sk-hidden--visually {border: 0;clip: rect(1px 1px 1px 1px);clip: rect(1px, 1px, 1px, 1px);height: 1px;margin: -1px;overflow: hidden;padding: 0;position: absolute;width: 1px;}#sk-container-id-1 div.sk-estimator {font-family: monospace;background-color: #f0f8ff;border: 1px dotted black;border-radius: 0.25em;box-sizing: border-box;margin-bottom: 0.5em;}#sk-container-id-1 div.sk-estimator:hover {background-color: #d4ebff;}#sk-container-id-1 div.sk-parallel-item::after {content: \"\";width: 100%;border-bottom: 1px solid gray;flex-grow: 1;}#sk-container-id-1 div.sk-label:hover label.sk-toggleable__label {background-color: #d4ebff;}#sk-container-id-1 div.sk-serial::before {content: \"\";position: absolute;border-left: 1px solid gray;box-sizing: border-box;top: 0;bottom: 0;left: 50%;z-index: 0;}#sk-container-id-1 div.sk-serial {display: flex;flex-direction: column;align-items: center;background-color: white;padding-right: 0.2em;padding-left: 0.2em;position: relative;}#sk-container-id-1 div.sk-item {position: relative;z-index: 1;}#sk-container-id-1 div.sk-parallel {display: flex;align-items: stretch;justify-content: center;background-color: white;position: relative;}#sk-container-id-1 div.sk-item::before, #sk-container-id-1 div.sk-parallel-item::before {content: \"\";position: absolute;border-left: 1px solid gray;box-sizing: border-box;top: 0;bottom: 0;left: 50%;z-index: -1;}#sk-container-id-1 div.sk-parallel-item {display: flex;flex-direction: column;z-index: 1;position: relative;background-color: white;}#sk-container-id-1 div.sk-parallel-item:first-child::after {align-self: flex-end;width: 50%;}#sk-container-id-1 div.sk-parallel-item:last-child::after {align-self: flex-start;width: 50%;}#sk-container-id-1 div.sk-parallel-item:only-child::after {width: 0;}#sk-container-id-1 div.sk-dashed-wrapped {border: 1px dashed gray;margin: 0 0.4em 0.5em 0.4em;box-sizing: border-box;padding-bottom: 0.4em;background-color: white;}#sk-container-id-1 div.sk-label label {font-family: monospace;font-weight: bold;display: inline-block;line-height: 1.2em;}#sk-container-id-1 div.sk-label-container {text-align: center;}#sk-container-id-1 div.sk-container {/* jupyter's `normalize.less` sets `[hidden] { display: none; }` but bootstrap.min.css set `[hidden] { display: none !important; }` so we also need the `!important` here to be able to override the default hidden behavior on the sphinx rendered scikit-learn.org. See: https://github.com/scikit-learn/scikit-learn/issues/21755 */display: inline-block !important;position: relative;}#sk-container-id-1 div.sk-text-repr-fallback {display: none;}</style><div id=\"sk-container-id-1\" class=\"sk-top-container\"><div class=\"sk-text-repr-fallback\"><pre>PCA(n_components=6525)</pre><b>In a Jupyter environment, please rerun this cell to show the HTML representation or trust the notebook. <br />On GitHub, the HTML representation is unable to render, please try loading this page with nbviewer.org.</b></div><div class=\"sk-container\" hidden><div class=\"sk-item\"><div class=\"sk-estimator sk-toggleable\"><input class=\"sk-toggleable__control sk-hidden--visually\" id=\"sk-estimator-id-1\" type=\"checkbox\" checked><label for=\"sk-estimator-id-1\" class=\"sk-toggleable__label sk-toggleable__label-arrow\">PCA</label><div class=\"sk-toggleable__content\"><pre>PCA(n_components=6525)</pre></div></div></div></div></div>"
            ]
          },
          "metadata": {},
          "execution_count": 42
        }
      ],
      "source": [
        "max_rank = min(X_train.shape[0], X_train.shape[1])\n",
        "\n",
        "pca = PCA(max_rank)\n",
        "\n",
        "pca.fit(X_train)"
      ]
    },
    {
      "cell_type": "code",
      "execution_count": 43,
      "metadata": {
        "id": "50KIQCeKUA9d"
      },
      "outputs": [],
      "source": [
        "def pca_reduce_dimensionality(pca, dataset, n_components):\n",
        "    pca_n_comps = copy.deepcopy(pca)\n",
        "    pca_n_comps.n_components_ = n_components\n",
        "    pca_n_comps.components_ = pca.components_[0:n_components]\n",
        "\n",
        "    return pca_n_comps.transform(dataset)"
      ]
    },
    {
      "cell_type": "markdown",
      "metadata": {
        "id": "asbSaxm6UA9e"
      },
      "source": [
        "## TF-IDF\n",
        "\n",
        "Term Frequency - Inverse Document Frequency (TF-IDF) is a statistical measure that is used to evaluate the importance of a word in a document or a collection of documents by multiplying the term frequency by the inverse document frequency for each word in a document. The resulting value is higher for words that are more important to the meaning of the document, and lower for words that are less important or more common."
      ]
    },
    {
      "cell_type": "code",
      "execution_count": 44,
      "metadata": {
        "id": "PnE6lv5_UA9f"
      },
      "outputs": [],
      "source": [
        "from scipy.sparse import vstack\n",
        "\n",
        "tfidf = TfidfVectorizer(ngram_range=(1,4))\n",
        "tfidf.fit(pd.concat([train['CleanTweetText'], test['CleanTweetText']]))\n",
        "X_train_tfidf = tfidf.transform(train['CleanTweetText'])\n",
        "X_test_tfidf = tfidf.transform(test['CleanTweetText'])\n",
        "\n",
        "# Define the number of topics or components\n",
        "num_components=500\n",
        "\n",
        "# Create SVD object\n",
        "lsa = TruncatedSVD(n_components=num_components, n_iter=100, random_state=42)\n",
        "\n",
        "# Fit SVD model on data\n",
        "lsa.fit(vstack((X_train_tfidf, X_test_tfidf)))\n",
        "X_train_lsa = lsa.transform(X_train_tfidf)\n",
        "X_test_lsa = lsa.transform(X_test_tfidf)"
      ]
    },
    {
      "cell_type": "markdown",
      "metadata": {
        "id": "A1P5JOGMUA9i"
      },
      "source": [
        "## E5\n",
        "\n",
        "Text embedding is a technique used to map words or phrases in a text to a numerical vector space. The goal of text embedding is to capture the meaning of the words and the relationships between them in a way that can be used by machine learning models.\n",
        "\n",
        "There are several different methods for creating text embeddings. They all involve training a model on a large dataset of text, such as a corpus of news articles or a collection of Wikipedia pages. The model learns to predict the likelihood of a word occurring given the context of the surrounding words, and uses this information to create a high-dimensional vector representation of each word.\n",
        "\n",
        "Text embeddings are useful because they allow machine learning models to take into account the meaning of words in a text, rather than just treating them as individual tokens. This makes it possible to use the embeddings to perform tasks such as text classification, language translation, and text generation.\n",
        "\n",
        "E5 is a family of state-of-the-art text embeddings that transfer well to a wide range of tasks. The model is trained in a contrastive manner with weak supervision signals from a curated large-scale text pair dataset.\n",
        "\n",
        "*Text Embeddings by Weakly-Supervised Contrastive Pre-training. Liang Wang, Nan Yang, Xiaolong Huang, Binxing Jiao, Linjun Yang, Daxin Jiang, Rangan Majumder, Furu Wei, arXiv 2022*"
      ]
    },
    {
      "cell_type": "markdown",
      "metadata": {
        "id": "SBcDA6XfUA9j"
      },
      "source": [
        "### Installing the model"
      ]
    },
    {
      "cell_type": "markdown",
      "metadata": {
        "id": "zujfhTAQUA9l"
      },
      "source": [
        "The model can be found at the offical [github page][1].\n",
        "\n",
        "[1]: https://github.com/microsoft/unilm/tree/b9107d9ee3ae4bbbb3ff0de2526f2b83bbf33e18/e5#citation"
      ]
    },
    {
      "cell_type": "code",
      "execution_count": 45,
      "metadata": {
        "colab": {
          "base_uri": "https://localhost:8080/"
        },
        "id": "Cy0RbIQxUA9m",
        "outputId": "b074ebb5-a248-43e8-b671-0619c9cb73af"
      },
      "outputs": [
        {
          "output_type": "stream",
          "name": "stdout",
          "text": [
            "Reading package lists... Done\n",
            "Building dependency tree... Done\n",
            "Reading state information... Done\n",
            "The following additional packages will be installed:\n",
            "  libapr1 libaprutil1 libserf-1-1 libsvn1 libutf8proc2\n",
            "Suggested packages:\n",
            "  db5.3-util libapache2-mod-svn subversion-tools\n",
            "The following NEW packages will be installed:\n",
            "  libapr1 libaprutil1 libserf-1-1 libsvn1 libutf8proc2 subversion\n",
            "0 upgraded, 6 newly installed, 0 to remove and 45 not upgraded.\n",
            "Need to get 2,672 kB of archives.\n",
            "After this operation, 10.5 MB of additional disk space will be used.\n",
            "Get:1 http://archive.ubuntu.com/ubuntu jammy-updates/main amd64 libapr1 amd64 1.7.0-8ubuntu0.22.04.1 [108 kB]\n",
            "Get:2 http://archive.ubuntu.com/ubuntu jammy-updates/main amd64 libaprutil1 amd64 1.6.1-5ubuntu4.22.04.2 [92.8 kB]\n",
            "Get:3 http://archive.ubuntu.com/ubuntu jammy/universe amd64 libserf-1-1 amd64 1.3.9-10ubuntu2 [50.0 kB]\n",
            "Get:4 http://archive.ubuntu.com/ubuntu jammy/universe amd64 libutf8proc2 amd64 2.7.0-3 [73.9 kB]\n",
            "Get:5 http://archive.ubuntu.com/ubuntu jammy-updates/universe amd64 libsvn1 amd64 1.14.1-3ubuntu0.22.04.1 [1,387 kB]\n",
            "Get:6 http://archive.ubuntu.com/ubuntu jammy-updates/universe amd64 subversion amd64 1.14.1-3ubuntu0.22.04.1 [960 kB]\n",
            "Fetched 2,672 kB in 3s (1,049 kB/s)\n",
            "Selecting previously unselected package libapr1:amd64.\n",
            "(Reading database ... 121753 files and directories currently installed.)\n",
            "Preparing to unpack .../0-libapr1_1.7.0-8ubuntu0.22.04.1_amd64.deb ...\n",
            "Unpacking libapr1:amd64 (1.7.0-8ubuntu0.22.04.1) ...\n",
            "Selecting previously unselected package libaprutil1:amd64.\n",
            "Preparing to unpack .../1-libaprutil1_1.6.1-5ubuntu4.22.04.2_amd64.deb ...\n",
            "Unpacking libaprutil1:amd64 (1.6.1-5ubuntu4.22.04.2) ...\n",
            "Selecting previously unselected package libserf-1-1:amd64.\n",
            "Preparing to unpack .../2-libserf-1-1_1.3.9-10ubuntu2_amd64.deb ...\n",
            "Unpacking libserf-1-1:amd64 (1.3.9-10ubuntu2) ...\n",
            "Selecting previously unselected package libutf8proc2:amd64.\n",
            "Preparing to unpack .../3-libutf8proc2_2.7.0-3_amd64.deb ...\n",
            "Unpacking libutf8proc2:amd64 (2.7.0-3) ...\n",
            "Selecting previously unselected package libsvn1:amd64.\n",
            "Preparing to unpack .../4-libsvn1_1.14.1-3ubuntu0.22.04.1_amd64.deb ...\n",
            "Unpacking libsvn1:amd64 (1.14.1-3ubuntu0.22.04.1) ...\n",
            "Selecting previously unselected package subversion.\n",
            "Preparing to unpack .../5-subversion_1.14.1-3ubuntu0.22.04.1_amd64.deb ...\n",
            "Unpacking subversion (1.14.1-3ubuntu0.22.04.1) ...\n",
            "Setting up libutf8proc2:amd64 (2.7.0-3) ...\n",
            "Setting up libapr1:amd64 (1.7.0-8ubuntu0.22.04.1) ...\n",
            "Setting up libaprutil1:amd64 (1.6.1-5ubuntu4.22.04.2) ...\n",
            "Setting up libserf-1-1:amd64 (1.3.9-10ubuntu2) ...\n",
            "Setting up libsvn1:amd64 (1.14.1-3ubuntu0.22.04.1) ...\n",
            "Setting up subversion (1.14.1-3ubuntu0.22.04.1) ...\n",
            "Processing triggers for libc-bin (2.35-0ubuntu3.4) ...\n",
            "/sbin/ldconfig.real: /usr/local/lib/libtbbmalloc.so.2 is not a symbolic link\n",
            "\n",
            "/sbin/ldconfig.real: /usr/local/lib/libtbbbind_2_5.so.3 is not a symbolic link\n",
            "\n",
            "/sbin/ldconfig.real: /usr/local/lib/libtbbbind_2_0.so.3 is not a symbolic link\n",
            "\n",
            "/sbin/ldconfig.real: /usr/local/lib/libtbbmalloc_proxy.so.2 is not a symbolic link\n",
            "\n",
            "/sbin/ldconfig.real: /usr/local/lib/libtbb.so.12 is not a symbolic link\n",
            "\n",
            "/sbin/ldconfig.real: /usr/local/lib/libtbbbind.so.3 is not a symbolic link\n",
            "\n",
            "Processing triggers for man-db (2.10.2-1) ...\n",
            "svn: E170013: Unable to connect to a repository at URL 'https://github.com/microsoft/unilm/trunk/e5'\n",
            "svn: E160013: '/microsoft/unilm/trunk/e5' path not found\n",
            "Requirement already satisfied: pip in /usr/local/lib/python3.10/dist-packages (23.1.2)\n",
            "Collecting pip\n",
            "  Downloading pip-24.0-py3-none-any.whl (2.1 MB)\n",
            "\u001b[2K     \u001b[90m━━━━━━━━━━━━━━━━━━━━━━━━━━━━━━━━━━━━━━━━\u001b[0m \u001b[32m2.1/2.1 MB\u001b[0m \u001b[31m29.5 MB/s\u001b[0m eta \u001b[36m0:00:00\u001b[0m\n",
            "\u001b[?25hInstalling collected packages: pip\n",
            "  Attempting uninstall: pip\n",
            "    Found existing installation: pip 23.1.2\n",
            "    Uninstalling pip-23.1.2:\n",
            "      Successfully uninstalled pip-23.1.2\n",
            "Successfully installed pip-24.0\n",
            "\u001b[33mWARNING: Running pip as the 'root' user can result in broken permissions and conflicting behaviour with the system package manager. It is recommended to use a virtual environment instead: https://pip.pypa.io/warnings/venv\u001b[0m\u001b[33m\n",
            "\u001b[0m\u001b[33mWARNING: Running pip as the 'root' user can result in broken permissions and conflicting behaviour with the system package manager. It is recommended to use a virtual environment instead: https://pip.pypa.io/warnings/venv\u001b[0m\u001b[33m\n",
            "\u001b[0m\u001b[33mWARNING: Running pip as the 'root' user can result in broken permissions and conflicting behaviour with the system package manager. It is recommended to use a virtual environment instead: https://pip.pypa.io/warnings/venv\u001b[0m\u001b[33m\n",
            "\u001b[0m"
          ]
        }
      ],
      "source": [
        "! apt-get install subversion -y\n",
        "! svn checkout https://github.com/microsoft/unilm/trunk/e5\n",
        "\n",
        "! pip install --upgrade pip\n",
        "! pip install torch>=1.7\n",
        "! pip install transformers>=4.15.0\n",
        "! pip install datasets>=2.2.0"
      ]
    },
    {
      "cell_type": "markdown",
      "metadata": {
        "id": "kSKXSlwxUA9n"
      },
      "source": [
        "To run the model, it is necessary to download the weights at this location:\n",
        "https://1drv.ms/u/s!Ap3CZfrY6o7cgSRb_1wwJ2sxw34f?e=32vp1D\n",
        "\n",
        "and add them to the Kaggle notebook as a dataset called \"e5weights\"."
      ]
    },
    {
      "cell_type": "code",
      "execution_count": 46,
      "metadata": {
        "colab": {
          "base_uri": "https://localhost:8080/",
          "height": 349
        },
        "id": "NpSEL2pnUA9o",
        "outputId": "f7a46743-3192-45d2-ae4f-b5d40aa93151"
      },
      "outputs": [
        {
          "output_type": "error",
          "ename": "ModuleNotFoundError",
          "evalue": "No module named 'e5'",
          "traceback": [
            "\u001b[0;31m---------------------------------------------------------------------------\u001b[0m",
            "\u001b[0;31mModuleNotFoundError\u001b[0m                       Traceback (most recent call last)",
            "\u001b[0;32m<ipython-input-46-9c31a327e06c>\u001b[0m in \u001b[0;36m<cell line: 16>\u001b[0;34m()\u001b[0m\n\u001b[1;32m     14\u001b[0m \u001b[0;32mfrom\u001b[0m \u001b[0mtyping\u001b[0m \u001b[0;32mimport\u001b[0m \u001b[0mList\u001b[0m\u001b[0;34m,\u001b[0m \u001b[0mDict\u001b[0m\u001b[0;34m\u001b[0m\u001b[0;34m\u001b[0m\u001b[0m\n\u001b[1;32m     15\u001b[0m \u001b[0;34m\u001b[0m\u001b[0m\n\u001b[0;32m---> 16\u001b[0;31m \u001b[0;32mfrom\u001b[0m \u001b[0me5\u001b[0m\u001b[0;34m.\u001b[0m\u001b[0mutils\u001b[0m \u001b[0;32mimport\u001b[0m \u001b[0mlogger\u001b[0m\u001b[0;34m,\u001b[0m \u001b[0mpool\u001b[0m\u001b[0;34m,\u001b[0m \u001b[0mmove_to_cuda\u001b[0m\u001b[0;34m\u001b[0m\u001b[0;34m\u001b[0m\u001b[0m\n\u001b[0m",
            "\u001b[0;31mModuleNotFoundError\u001b[0m: No module named 'e5'",
            "",
            "\u001b[0;31m---------------------------------------------------------------------------\u001b[0;32m\nNOTE: If your import is failing due to a missing package, you can\nmanually install dependencies using either !pip or !apt.\n\nTo view examples of installing some common dependencies, click the\n\"Open Examples\" button below.\n\u001b[0;31m---------------------------------------------------------------------------\u001b[0m\n"
          ],
          "errorDetails": {
            "actions": [
              {
                "action": "open_url",
                "actionText": "Open Examples",
                "url": "/notebooks/snippets/importing_libraries.ipynb"
              }
            ]
          }
        }
      ],
      "source": [
        "#import os\n",
        "import torch\n",
        "import torch.nn.functional as F\n",
        "import tqdm\n",
        "import json\n",
        "#import numpy as np\n",
        "#import argparse\n",
        "\n",
        "from functools import partial\n",
        "from torch.utils.data import DataLoader\n",
        "from datasets import Dataset\n",
        "from transformers import AutoModel, AutoTokenizer, DataCollatorWithPadding, PreTrainedTokenizerFast, BatchEncoding\n",
        "from transformers.modeling_outputs import BaseModelOutput\n",
        "from typing import List, Dict\n",
        "\n",
        "from e5.utils import logger, pool, move_to_cuda"
      ]
    },
    {
      "cell_type": "code",
      "execution_count": null,
      "metadata": {
        "id": "Y5f4_ma5UA9q"
      },
      "outputs": [],
      "source": [
        "class Args:\n",
        "    def __init__(self, model_name_or_path, prompt, pool_type, l2_normalize):\n",
        "        self.model_name_or_path = model_name_or_path\n",
        "        self.prompt = prompt\n",
        "        self.pool_type = pool_type\n",
        "        self.l2_normalize = l2_normalize\n",
        "\n",
        "args = Args('/kaggle/input/e5weights/', 'query: ', 'avg', False)\n",
        "\n",
        "def _transform_func(tokenizer: PreTrainedTokenizerFast,\n",
        "                    examples: Dict[str, List]) -> BatchEncoding:\n",
        "    if args.prompt:\n",
        "        examples['input_texts'] = [args.prompt + t for t in examples['input_texts']]\n",
        "    batch_dict = tokenizer(examples['input_texts'],\n",
        "                           max_length=512,\n",
        "                           padding=True,\n",
        "                           truncation=True)\n",
        "\n",
        "    return batch_dict\n",
        "\n",
        "\n",
        "class DenseEncoder(torch.nn.Module):\n",
        "    def __init__(self, **kwargs):\n",
        "        super().__init__()\n",
        "        self.encoder = AutoModel.from_pretrained(args.model_name_or_path)\n",
        "        self.tokenizer = AutoTokenizer.from_pretrained(args.model_name_or_path)\n",
        "        self.gpu_count = torch.cuda.device_count()\n",
        "\n",
        "        self.encoder.eval()\n",
        "        self.encoder.cuda()\n",
        "\n",
        "        if self.gpu_count > 1:\n",
        "            self.encoder = torch.nn.DataParallel(self.encoder)\n",
        "\n",
        "    @torch.no_grad()\n",
        "    def encode(self, sentences, **kwargs) -> np.ndarray:\n",
        "        \"\"\" Returns a list of embeddings for the given sentences.\n",
        "        Args:\n",
        "            sentences (`List[str]`): List of sentences to encode\n",
        "            batch_size (`int`): Batch size for the encoding\n",
        "        Returns:\n",
        "            `List[np.ndarray]` or `List[tensor]`: List of embeddings for the given sentences\n",
        "        \"\"\"\n",
        "\n",
        "        dataset: Dataset = Dataset.from_dict({'input_texts': sentences})\n",
        "        dataset.set_transform(partial(_transform_func, self.tokenizer))\n",
        "\n",
        "        data_collator = DataCollatorWithPadding(self.tokenizer, pad_to_multiple_of=8)\n",
        "        data_loader = DataLoader(\n",
        "            dataset,\n",
        "            batch_size=128 * self.gpu_count,\n",
        "            shuffle=False,\n",
        "            drop_last=False,\n",
        "            num_workers=2,\n",
        "            collate_fn=data_collator,\n",
        "            pin_memory=True)\n",
        "\n",
        "        encoded_embeds = []\n",
        "        for batch_dict in tqdm.tqdm(data_loader, desc='encoding', mininterval=10, disable=len(sentences) < 128):\n",
        "            batch_dict = move_to_cuda(batch_dict)\n",
        "\n",
        "            with torch.cuda.amp.autocast():\n",
        "                outputs: BaseModelOutput = self.encoder(**batch_dict)\n",
        "                embeds = pool(outputs.last_hidden_state, batch_dict['attention_mask'], args.pool_type)\n",
        "                if args.l2_normalize:\n",
        "                    embeds = F.normalize(embeds, p=2, dim=-1)\n",
        "                encoded_embeds.append(embeds.cpu().numpy())\n",
        "\n",
        "        return np.concatenate(encoded_embeds, axis=0)"
      ]
    },
    {
      "cell_type": "code",
      "execution_count": null,
      "metadata": {
        "id": "xySxuZhwUA9u"
      },
      "outputs": [],
      "source": [
        "model = DenseEncoder()\n",
        "train_embeddings = model.encode(train['TweetText'])"
      ]
    },
    {
      "cell_type": "markdown",
      "metadata": {
        "id": "wuGMJD5RUA9x"
      },
      "source": [
        "# Evaluation\n",
        "\n",
        "Having extracted the features using various methods, we now proceed to train our models and evaluate their performance using 5-fold cross-validation. The model used most frequently in this section is logistic regression."
      ]
    },
    {
      "cell_type": "markdown",
      "metadata": {
        "id": "47DUCuiKUA9y"
      },
      "source": [
        "## Word Frequency"
      ]
    },
    {
      "cell_type": "markdown",
      "metadata": {
        "id": "0ROINFQxUA9z"
      },
      "source": [
        "### Raw\n",
        "\n",
        "We train the model on raw frequencies to establish a baseline."
      ]
    },
    {
      "cell_type": "markdown",
      "metadata": {
        "id": "lem4BqFEUA90"
      },
      "source": [
        "#### Performance"
      ]
    },
    {
      "cell_type": "code",
      "execution_count": null,
      "metadata": {
        "id": "dzV0a5h4UA92"
      },
      "outputs": [],
      "source": [
        "# Word Frequency (No feature selection) Cross-validation\n",
        "\n",
        "model = LogisticRegression()\n",
        "\n",
        "# Use the cross_val_score function to evaluate the model using 5-fold cross-validation\n",
        "scores = cross_val_score(model, X_train, y_train, cv=5)\n",
        "\n",
        "raw_freq_cv_score = scores.mean()\n",
        "\n",
        "# Print the mean and standard deviation of the cross-validated scores\n",
        "print(\"Mean accuracy: {:.4f} (+/- {:.4f})\".format(scores.mean(), scores.std()))"
      ]
    },
    {
      "cell_type": "markdown",
      "metadata": {
        "id": "HQ6BurxnUA94"
      },
      "source": [
        "#### Prediction"
      ]
    },
    {
      "cell_type": "code",
      "execution_count": null,
      "metadata": {
        "id": "iit3xt4YUA95"
      },
      "outputs": [],
      "source": [
        "# Word Frequency (No feature selection) Generate prediction\n",
        "\n",
        "model.fit(X_train, y_train)\n",
        "\n",
        "test['Label'] = model.predict(X_test)\n",
        "\n",
        "submission_prediction = test[['TweetId', 'Label']]\n",
        "\n",
        "submission_prediction.to_csv('freq_prediction.csv', index=False)"
      ]
    },
    {
      "cell_type": "markdown",
      "metadata": {
        "id": "d7PGIohqUA97"
      },
      "source": [
        "### Frequency Threshold\n",
        "\n",
        "To find the optimal value for the threshold, we evaluate the crossvaluation scores and then apply the cut to the dataset."
      ]
    },
    {
      "cell_type": "markdown",
      "metadata": {
        "id": "VpBpL6QFUA98"
      },
      "source": [
        "#### Performance"
      ]
    },
    {
      "cell_type": "code",
      "execution_count": null,
      "metadata": {
        "id": "kI20Ao22UA99"
      },
      "outputs": [],
      "source": [
        "def score_per_word_frequency_feature_selection(threshold):\n",
        "\n",
        "    X_train_threshold = frequency_threshold_cut(X_train, threshold)\n",
        "\n",
        "    model = LogisticRegression()\n",
        "\n",
        "    scores = cross_val_score(model, X_train_threshold, y_train, cv=5)\n",
        "\n",
        "    return scores.mean()"
      ]
    },
    {
      "cell_type": "code",
      "execution_count": null,
      "metadata": {
        "id": "-VkjJ0XaUA9-"
      },
      "outputs": [],
      "source": [
        "# Calculate score per threshold\n",
        "from tqdm.auto import tqdm\n",
        "\n",
        "scores = []\n",
        "\n",
        "for thr in tqdm(range(5, 101, 5)):\n",
        "    scores.append((thr, score_per_word_frequency_feature_selection(math.ceil(len(word_frequencies['Word']) * thr / 100))))\n",
        "\n",
        "print(scores)"
      ]
    },
    {
      "cell_type": "code",
      "execution_count": null,
      "metadata": {
        "id": "1qhONafaUA9_"
      },
      "outputs": [],
      "source": [
        "x = [score[0] for score in scores]\n",
        "y = [score[1] for score in scores]\n",
        "\n",
        "plt.plot(x, y)\n",
        "\n",
        "plt.show()"
      ]
    },
    {
      "cell_type": "markdown",
      "metadata": {
        "id": "bHzYnE39UA-B"
      },
      "source": [
        "With minimal loss of accuracy, we can keep the top 45% words"
      ]
    },
    {
      "cell_type": "code",
      "execution_count": null,
      "metadata": {
        "id": "JhsFCsC-UA-D"
      },
      "outputs": [],
      "source": [
        "# Best score\n",
        "freq_thr_best_score = max(scores, key=lambda x:x[1])\n",
        "best_scoring_threshold = freq_thr_best_score[0]\n",
        "\n",
        "print(freq_thr_best_score)"
      ]
    },
    {
      "cell_type": "markdown",
      "metadata": {
        "id": "u1P5qMV0UA-E"
      },
      "source": [
        "#### Prediction"
      ]
    },
    {
      "cell_type": "code",
      "execution_count": null,
      "metadata": {
        "id": "dqUhZJgNUA-F"
      },
      "outputs": [],
      "source": [
        "# Word Frequency (with feature selection) Generate prediction\n",
        "\n",
        "X_train_threshold = frequency_threshold_cut(X_train, math.ceil(len(word_frequencies['Word']) * best_scoring_threshold / 100))\n",
        "X_test_threshold = frequency_threshold_cut(X_test, math.ceil(len(word_frequencies['Word']) * best_scoring_threshold / 100))\n",
        "\n",
        "model.fit(X_train_threshold, y_train)\n",
        "\n",
        "test['Label'] = model.predict(X_test_threshold)\n",
        "\n",
        "submission_prediction = test[['TweetId', 'Label']]\n",
        "\n",
        "submission_prediction.to_csv('freq_thresh_prediction.csv', index=False)"
      ]
    },
    {
      "cell_type": "markdown",
      "metadata": {
        "id": "4N7Wbe-KUA-G"
      },
      "source": [
        "### PCA\n",
        "\n",
        "To find the optimal number of components, we evaluate the crossvaluation scores at different percentage of features."
      ]
    },
    {
      "cell_type": "code",
      "execution_count": null,
      "metadata": {
        "id": "8fA7SPzYUA-G"
      },
      "outputs": [],
      "source": [
        "def score_per_pca_feature_selection(n_components):\n",
        "    X_train_pca = pca_reduce_dimensionality(pca, X_train, n_components)\n",
        "\n",
        "    model = LogisticRegression()\n",
        "\n",
        "    scores = cross_val_score(model, X_train_pca, y_train, cv=5)\n",
        "\n",
        "    return scores.mean()\n"
      ]
    },
    {
      "cell_type": "code",
      "execution_count": null,
      "metadata": {
        "id": "BnFfDWCgUA-H"
      },
      "outputs": [],
      "source": [
        "# PCA Cross-evaluation\n",
        "scores = []\n",
        "\n",
        "for thr in tqdm(range(5, 101, 5)):\n",
        "    scores.append((thr, score_per_pca_feature_selection(math.ceil(max_rank * thr / 100))))\n",
        "\n",
        "print(scores)"
      ]
    },
    {
      "cell_type": "code",
      "execution_count": null,
      "metadata": {
        "id": "htmKuyZDUA-I"
      },
      "outputs": [],
      "source": [
        "# Extract the values from the scores tuples\n",
        "x = [score[0] for score in scores]\n",
        "y = [score[1] for score in scores]\n",
        "\n",
        "# Create a line plot\n",
        "plt.plot(x, y)\n",
        "\n",
        "# Show the plot\n",
        "plt.show()"
      ]
    },
    {
      "cell_type": "code",
      "execution_count": null,
      "metadata": {
        "id": "M8Bji-XeUA-J"
      },
      "outputs": [],
      "source": [
        "# Best score\n",
        "freq_pca_best_score = max(scores, key=lambda x:x[1])\n",
        "best_scoring_percentage = freq_pca_best_score[0]\n",
        "\n",
        "print(freq_pca_best_score)"
      ]
    },
    {
      "cell_type": "markdown",
      "metadata": {
        "id": "dw5t3tirUA-L"
      },
      "source": [
        "### PCA Prediction"
      ]
    },
    {
      "cell_type": "code",
      "execution_count": null,
      "metadata": {
        "id": "JYC-wsF0UA-M"
      },
      "outputs": [],
      "source": [
        "# PCA Generate prediction\n",
        "\n",
        "best_scoring_n_components = math.ceil( max_rank * best_scoring_percentage / 100 )\n",
        "pca = PCA(n_components = best_scoring_n_components)\n",
        "\n",
        "pca.fit(X_train)\n",
        "\n",
        "X_train_pca = pca.transform(X_train)\n",
        "model.fit(X_train_pca, y_train)\n",
        "\n",
        "X_test_pca = pca.transform(X_test)\n",
        "\n",
        "test['Label'] = model.predict(X_test_pca)\n",
        "\n",
        "submission_prediction = test[['TweetId', 'Label']]\n",
        "\n",
        "submission_prediction.to_csv('pca_prediction.csv', index=False)"
      ]
    },
    {
      "cell_type": "markdown",
      "metadata": {
        "id": "v-tDHkaZUA-M"
      },
      "source": [
        "## TF-IDF\n",
        "\n",
        "We evaluate TF-IDF with logistic regression."
      ]
    },
    {
      "cell_type": "markdown",
      "metadata": {
        "id": "MDly2jM3UA-N"
      },
      "source": [
        "#### Performance"
      ]
    },
    {
      "cell_type": "code",
      "execution_count": null,
      "metadata": {
        "id": "rHhRubLPUA-O"
      },
      "outputs": [],
      "source": [
        "#TF-IDF Cross-validation\n",
        "\n",
        "model = LogisticRegression()\n",
        "\n",
        "# Use the cross_val_score function to evaluate the model using 5-fold cross-validation\n",
        "scores = cross_val_score(model, X_train_lsa, y_train, cv=5)\n",
        "\n",
        "tfidf_cv_score = scores.mean()\n",
        "\n",
        "# Print the mean and standard deviation of the cross-validated scores\n",
        "print(\"Mean accuracy: {:.4f} (+/- {:.4f})\".format(scores.mean(), scores.std()))"
      ]
    },
    {
      "cell_type": "markdown",
      "metadata": {
        "id": "ZsW0LEg1UA-P"
      },
      "source": [
        "#### Prediction"
      ]
    },
    {
      "cell_type": "code",
      "execution_count": null,
      "metadata": {
        "id": "DpVIq3AEUA-P"
      },
      "outputs": [],
      "source": [
        "# TF-IDF Generate prediction\n",
        "\n",
        "model.fit(X_train_lsa, y_train)\n",
        "\n",
        "test['Label'] = model.predict(X_test_lsa)\n",
        "\n",
        "submission_prediction = test[['TweetId', 'Label']]\n",
        "\n",
        "submission_prediction.to_csv('tfidf_prediction.csv', index=False)"
      ]
    },
    {
      "cell_type": "markdown",
      "metadata": {
        "id": "PANhDFrlUA-R"
      },
      "source": [
        "## e5 Text Embedding\n",
        "\n",
        "We evaluate e5 embedding with two models: logistic regression and a multi-layer perceptron."
      ]
    },
    {
      "cell_type": "markdown",
      "metadata": {
        "id": "Xbu9gkIMUA-T"
      },
      "source": [
        "#### Performance"
      ]
    },
    {
      "cell_type": "code",
      "execution_count": null,
      "metadata": {
        "id": "HWvVIgJ6UA-U"
      },
      "outputs": [],
      "source": [
        "# e5 with Logistic Regression Cross-evaluation\n",
        "\n",
        "model = LogisticRegression(max_iter=5000)\n",
        "\n",
        "# Use the cross_val_score function to evaluate the model using 5-fold cross-validation\n",
        "scores = cross_val_score(model, train_embeddings, y_train, cv=5)\n",
        "\n",
        "e5_cv_score = scores.mean()\n",
        "\n",
        "# Print the mean and standard deviation of the cross-validated scores\n",
        "print(\"Mean accuracy: {:.4f} (+/- {:.4f})\".format(scores.mean(), scores.std()))"
      ]
    },
    {
      "cell_type": "code",
      "execution_count": null,
      "metadata": {
        "id": "lWGKiocNUA-W"
      },
      "outputs": [],
      "source": [
        "# e5 with Multi-Layer Perceptron Cross-evaluation\n",
        "\n",
        "MLPmodel = MLPClassifier(max_iter=5000)\n",
        "\n",
        "# Use the cross_val_score function to evaluate the model using 5-fold cross-validation\n",
        "scores = cross_val_score(MLPmodel, train_embeddings, y_train, cv=5)\n",
        "\n",
        "# Print the mean and standard deviation of the cross-validated scores\n",
        "print(\"Mean accuracy: {:.4f} (+/- {:.4f})\".format(scores.mean(), scores.std()))"
      ]
    },
    {
      "cell_type": "markdown",
      "metadata": {
        "id": "HkE0x0ZiUA-Y"
      },
      "source": [
        "#### Prediction\n",
        "\n",
        "Since logistic regression showed to be more accurate, we use it as the model for prediction generation."
      ]
    },
    {
      "cell_type": "code",
      "execution_count": null,
      "metadata": {
        "id": "fwwVvNzoUA-Z"
      },
      "outputs": [],
      "source": [
        "# e5 with Logistic Regression Generate prediction\n",
        "import tqdm\n",
        "embedder = DenseEncoder()\n",
        "test_embeddings = embedder.encode(test['TweetText'])\n",
        "\n",
        "model.fit(train_embeddings, y_train)\n",
        "test['Label'] = model.predict(test_embeddings)\n",
        "\n",
        "submission_prediction = test[['TweetId', 'Label']]\n",
        "submission_prediction.to_csv('e5_prediction.csv', index=False)"
      ]
    },
    {
      "cell_type": "markdown",
      "metadata": {
        "id": "sKHuy26HUA-a"
      },
      "source": [
        "## Overview"
      ]
    },
    {
      "cell_type": "code",
      "execution_count": null,
      "metadata": {
        "id": "lTSKYV_VUA-c"
      },
      "outputs": [],
      "source": [
        "cv_scores = [raw_freq_cv_score, freq_thr_best_score[1], freq_pca_best_score[1], tfidf_cv_score, e5_cv_score]\n",
        "\n",
        "plt.bar(range(1, 6), cv_scores)\n",
        "\n",
        "plt.xlabel('Model')\n",
        "plt.ylabel('Performance')\n",
        "plt.title('Performance of different models')\n",
        "\n",
        "model_labels = ['Word frequency without feature selection', 'Word frequency with frequency threshold', 'Word frequency with PCA', 'N-gram features + LSA', 'e5 embeddings']\n",
        "plt.xticks(range(1, 6), model_labels, rotation=90)\n",
        "plt.ylim(0.9, 1.0)\n",
        "\n",
        "# Show the plot\n",
        "plt.show()"
      ]
    }
  ],
  "metadata": {
    "colab": {
      "provenance": [],
      "gpuType": "T4",
      "include_colab_link": true
    },
    "kernelspec": {
      "display_name": "Python 3",
      "name": "python3"
    },
    "language_info": {
      "codemirror_mode": {
        "name": "ipython",
        "version": 3
      },
      "file_extension": ".py",
      "mimetype": "text/x-python",
      "name": "python",
      "nbconvert_exporter": "python",
      "pygments_lexer": "ipython3",
      "version": "3.7.12"
    },
    "widgets": {
      "application/vnd.jupyter.widget-state+json": {
        "b8e8eeac752047ec805e8b4bcc173d4a": {
          "model_module": "@jupyter-widgets/controls",
          "model_name": "HBoxModel",
          "model_module_version": "1.5.0",
          "state": {
            "_dom_classes": [],
            "_model_module": "@jupyter-widgets/controls",
            "_model_module_version": "1.5.0",
            "_model_name": "HBoxModel",
            "_view_count": null,
            "_view_module": "@jupyter-widgets/controls",
            "_view_module_version": "1.5.0",
            "_view_name": "HBoxView",
            "box_style": "",
            "children": [
              "IPY_MODEL_2929ab574aea4e53bf611747a2cc74e1",
              "IPY_MODEL_88c90955e30a475bada4abe89186820c",
              "IPY_MODEL_425fba71c9e44372ae52af5979090b38"
            ],
            "layout": "IPY_MODEL_01d51506b7ae4c03a9e22b6dda65f604"
          }
        },
        "2929ab574aea4e53bf611747a2cc74e1": {
          "model_module": "@jupyter-widgets/controls",
          "model_name": "HTMLModel",
          "model_module_version": "1.5.0",
          "state": {
            "_dom_classes": [],
            "_model_module": "@jupyter-widgets/controls",
            "_model_module_version": "1.5.0",
            "_model_name": "HTMLModel",
            "_view_count": null,
            "_view_module": "@jupyter-widgets/controls",
            "_view_module_version": "1.5.0",
            "_view_name": "HTMLView",
            "description": "",
            "description_tooltip": null,
            "layout": "IPY_MODEL_89f35d9c35dd40668bd77278c046bb6d",
            "placeholder": "​",
            "style": "IPY_MODEL_f7cddf5b92a041608252218d73ecef97",
            "value": "100%"
          }
        },
        "88c90955e30a475bada4abe89186820c": {
          "model_module": "@jupyter-widgets/controls",
          "model_name": "FloatProgressModel",
          "model_module_version": "1.5.0",
          "state": {
            "_dom_classes": [],
            "_model_module": "@jupyter-widgets/controls",
            "_model_module_version": "1.5.0",
            "_model_name": "FloatProgressModel",
            "_view_count": null,
            "_view_module": "@jupyter-widgets/controls",
            "_view_module_version": "1.5.0",
            "_view_name": "ProgressView",
            "bar_style": "success",
            "description": "",
            "description_tooltip": null,
            "layout": "IPY_MODEL_4b6c758e9cf1454e95b4d5df273e9612",
            "max": 6525,
            "min": 0,
            "orientation": "horizontal",
            "style": "IPY_MODEL_67e269639d694d1e8da67d41b1c7281f",
            "value": 6525
          }
        },
        "425fba71c9e44372ae52af5979090b38": {
          "model_module": "@jupyter-widgets/controls",
          "model_name": "HTMLModel",
          "model_module_version": "1.5.0",
          "state": {
            "_dom_classes": [],
            "_model_module": "@jupyter-widgets/controls",
            "_model_module_version": "1.5.0",
            "_model_name": "HTMLModel",
            "_view_count": null,
            "_view_module": "@jupyter-widgets/controls",
            "_view_module_version": "1.5.0",
            "_view_name": "HTMLView",
            "description": "",
            "description_tooltip": null,
            "layout": "IPY_MODEL_bca94d85c9934a488057af6ff49c654c",
            "placeholder": "​",
            "style": "IPY_MODEL_35614c762abb4f7da3127c65de64c7b9",
            "value": " 6525/6525 [01:02&lt;00:00, 113.15it/s]"
          }
        },
        "01d51506b7ae4c03a9e22b6dda65f604": {
          "model_module": "@jupyter-widgets/base",
          "model_name": "LayoutModel",
          "model_module_version": "1.2.0",
          "state": {
            "_model_module": "@jupyter-widgets/base",
            "_model_module_version": "1.2.0",
            "_model_name": "LayoutModel",
            "_view_count": null,
            "_view_module": "@jupyter-widgets/base",
            "_view_module_version": "1.2.0",
            "_view_name": "LayoutView",
            "align_content": null,
            "align_items": null,
            "align_self": null,
            "border": null,
            "bottom": null,
            "display": null,
            "flex": null,
            "flex_flow": null,
            "grid_area": null,
            "grid_auto_columns": null,
            "grid_auto_flow": null,
            "grid_auto_rows": null,
            "grid_column": null,
            "grid_gap": null,
            "grid_row": null,
            "grid_template_areas": null,
            "grid_template_columns": null,
            "grid_template_rows": null,
            "height": null,
            "justify_content": null,
            "justify_items": null,
            "left": null,
            "margin": null,
            "max_height": null,
            "max_width": null,
            "min_height": null,
            "min_width": null,
            "object_fit": null,
            "object_position": null,
            "order": null,
            "overflow": null,
            "overflow_x": null,
            "overflow_y": null,
            "padding": null,
            "right": null,
            "top": null,
            "visibility": null,
            "width": null
          }
        },
        "89f35d9c35dd40668bd77278c046bb6d": {
          "model_module": "@jupyter-widgets/base",
          "model_name": "LayoutModel",
          "model_module_version": "1.2.0",
          "state": {
            "_model_module": "@jupyter-widgets/base",
            "_model_module_version": "1.2.0",
            "_model_name": "LayoutModel",
            "_view_count": null,
            "_view_module": "@jupyter-widgets/base",
            "_view_module_version": "1.2.0",
            "_view_name": "LayoutView",
            "align_content": null,
            "align_items": null,
            "align_self": null,
            "border": null,
            "bottom": null,
            "display": null,
            "flex": null,
            "flex_flow": null,
            "grid_area": null,
            "grid_auto_columns": null,
            "grid_auto_flow": null,
            "grid_auto_rows": null,
            "grid_column": null,
            "grid_gap": null,
            "grid_row": null,
            "grid_template_areas": null,
            "grid_template_columns": null,
            "grid_template_rows": null,
            "height": null,
            "justify_content": null,
            "justify_items": null,
            "left": null,
            "margin": null,
            "max_height": null,
            "max_width": null,
            "min_height": null,
            "min_width": null,
            "object_fit": null,
            "object_position": null,
            "order": null,
            "overflow": null,
            "overflow_x": null,
            "overflow_y": null,
            "padding": null,
            "right": null,
            "top": null,
            "visibility": null,
            "width": null
          }
        },
        "f7cddf5b92a041608252218d73ecef97": {
          "model_module": "@jupyter-widgets/controls",
          "model_name": "DescriptionStyleModel",
          "model_module_version": "1.5.0",
          "state": {
            "_model_module": "@jupyter-widgets/controls",
            "_model_module_version": "1.5.0",
            "_model_name": "DescriptionStyleModel",
            "_view_count": null,
            "_view_module": "@jupyter-widgets/base",
            "_view_module_version": "1.2.0",
            "_view_name": "StyleView",
            "description_width": ""
          }
        },
        "4b6c758e9cf1454e95b4d5df273e9612": {
          "model_module": "@jupyter-widgets/base",
          "model_name": "LayoutModel",
          "model_module_version": "1.2.0",
          "state": {
            "_model_module": "@jupyter-widgets/base",
            "_model_module_version": "1.2.0",
            "_model_name": "LayoutModel",
            "_view_count": null,
            "_view_module": "@jupyter-widgets/base",
            "_view_module_version": "1.2.0",
            "_view_name": "LayoutView",
            "align_content": null,
            "align_items": null,
            "align_self": null,
            "border": null,
            "bottom": null,
            "display": null,
            "flex": null,
            "flex_flow": null,
            "grid_area": null,
            "grid_auto_columns": null,
            "grid_auto_flow": null,
            "grid_auto_rows": null,
            "grid_column": null,
            "grid_gap": null,
            "grid_row": null,
            "grid_template_areas": null,
            "grid_template_columns": null,
            "grid_template_rows": null,
            "height": null,
            "justify_content": null,
            "justify_items": null,
            "left": null,
            "margin": null,
            "max_height": null,
            "max_width": null,
            "min_height": null,
            "min_width": null,
            "object_fit": null,
            "object_position": null,
            "order": null,
            "overflow": null,
            "overflow_x": null,
            "overflow_y": null,
            "padding": null,
            "right": null,
            "top": null,
            "visibility": null,
            "width": null
          }
        },
        "67e269639d694d1e8da67d41b1c7281f": {
          "model_module": "@jupyter-widgets/controls",
          "model_name": "ProgressStyleModel",
          "model_module_version": "1.5.0",
          "state": {
            "_model_module": "@jupyter-widgets/controls",
            "_model_module_version": "1.5.0",
            "_model_name": "ProgressStyleModel",
            "_view_count": null,
            "_view_module": "@jupyter-widgets/base",
            "_view_module_version": "1.2.0",
            "_view_name": "StyleView",
            "bar_color": null,
            "description_width": ""
          }
        },
        "bca94d85c9934a488057af6ff49c654c": {
          "model_module": "@jupyter-widgets/base",
          "model_name": "LayoutModel",
          "model_module_version": "1.2.0",
          "state": {
            "_model_module": "@jupyter-widgets/base",
            "_model_module_version": "1.2.0",
            "_model_name": "LayoutModel",
            "_view_count": null,
            "_view_module": "@jupyter-widgets/base",
            "_view_module_version": "1.2.0",
            "_view_name": "LayoutView",
            "align_content": null,
            "align_items": null,
            "align_self": null,
            "border": null,
            "bottom": null,
            "display": null,
            "flex": null,
            "flex_flow": null,
            "grid_area": null,
            "grid_auto_columns": null,
            "grid_auto_flow": null,
            "grid_auto_rows": null,
            "grid_column": null,
            "grid_gap": null,
            "grid_row": null,
            "grid_template_areas": null,
            "grid_template_columns": null,
            "grid_template_rows": null,
            "height": null,
            "justify_content": null,
            "justify_items": null,
            "left": null,
            "margin": null,
            "max_height": null,
            "max_width": null,
            "min_height": null,
            "min_width": null,
            "object_fit": null,
            "object_position": null,
            "order": null,
            "overflow": null,
            "overflow_x": null,
            "overflow_y": null,
            "padding": null,
            "right": null,
            "top": null,
            "visibility": null,
            "width": null
          }
        },
        "35614c762abb4f7da3127c65de64c7b9": {
          "model_module": "@jupyter-widgets/controls",
          "model_name": "DescriptionStyleModel",
          "model_module_version": "1.5.0",
          "state": {
            "_model_module": "@jupyter-widgets/controls",
            "_model_module_version": "1.5.0",
            "_model_name": "DescriptionStyleModel",
            "_view_count": null,
            "_view_module": "@jupyter-widgets/base",
            "_view_module_version": "1.2.0",
            "_view_name": "StyleView",
            "description_width": ""
          }
        },
        "99ba770abd404220848aa9c971732405": {
          "model_module": "@jupyter-widgets/controls",
          "model_name": "HBoxModel",
          "model_module_version": "1.5.0",
          "state": {
            "_dom_classes": [],
            "_model_module": "@jupyter-widgets/controls",
            "_model_module_version": "1.5.0",
            "_model_name": "HBoxModel",
            "_view_count": null,
            "_view_module": "@jupyter-widgets/controls",
            "_view_module_version": "1.5.0",
            "_view_name": "HBoxView",
            "box_style": "",
            "children": [
              "IPY_MODEL_d786133a6d504288afe78213213595c2",
              "IPY_MODEL_834af5d0a8994319ad84171e33e76969",
              "IPY_MODEL_aa5b71658d614f75b88f0ef351d81aaa"
            ],
            "layout": "IPY_MODEL_9189b486717b4619b99950234e4cbe33"
          }
        },
        "d786133a6d504288afe78213213595c2": {
          "model_module": "@jupyter-widgets/controls",
          "model_name": "HTMLModel",
          "model_module_version": "1.5.0",
          "state": {
            "_dom_classes": [],
            "_model_module": "@jupyter-widgets/controls",
            "_model_module_version": "1.5.0",
            "_model_name": "HTMLModel",
            "_view_count": null,
            "_view_module": "@jupyter-widgets/controls",
            "_view_module_version": "1.5.0",
            "_view_name": "HTMLView",
            "description": "",
            "description_tooltip": null,
            "layout": "IPY_MODEL_ac19ea725d8f43ea93f0f94468a11182",
            "placeholder": "​",
            "style": "IPY_MODEL_fab3133e8fd643c4901772721a72b466",
            "value": "100%"
          }
        },
        "834af5d0a8994319ad84171e33e76969": {
          "model_module": "@jupyter-widgets/controls",
          "model_name": "FloatProgressModel",
          "model_module_version": "1.5.0",
          "state": {
            "_dom_classes": [],
            "_model_module": "@jupyter-widgets/controls",
            "_model_module_version": "1.5.0",
            "_model_name": "FloatProgressModel",
            "_view_count": null,
            "_view_module": "@jupyter-widgets/controls",
            "_view_module_version": "1.5.0",
            "_view_name": "ProgressView",
            "bar_style": "success",
            "description": "",
            "description_tooltip": null,
            "layout": "IPY_MODEL_836cc921460040c9982dbb25b8be47f4",
            "max": 2610,
            "min": 0,
            "orientation": "horizontal",
            "style": "IPY_MODEL_5aa001589c4641478bbffce13e44c80d",
            "value": 2610
          }
        },
        "aa5b71658d614f75b88f0ef351d81aaa": {
          "model_module": "@jupyter-widgets/controls",
          "model_name": "HTMLModel",
          "model_module_version": "1.5.0",
          "state": {
            "_dom_classes": [],
            "_model_module": "@jupyter-widgets/controls",
            "_model_module_version": "1.5.0",
            "_model_name": "HTMLModel",
            "_view_count": null,
            "_view_module": "@jupyter-widgets/controls",
            "_view_module_version": "1.5.0",
            "_view_name": "HTMLView",
            "description": "",
            "description_tooltip": null,
            "layout": "IPY_MODEL_9838fb53fc32465794e2e5301f21b4f9",
            "placeholder": "​",
            "style": "IPY_MODEL_70af3636f145476897137d3ead732655",
            "value": " 2610/2610 [00:22&lt;00:00, 123.53it/s]"
          }
        },
        "9189b486717b4619b99950234e4cbe33": {
          "model_module": "@jupyter-widgets/base",
          "model_name": "LayoutModel",
          "model_module_version": "1.2.0",
          "state": {
            "_model_module": "@jupyter-widgets/base",
            "_model_module_version": "1.2.0",
            "_model_name": "LayoutModel",
            "_view_count": null,
            "_view_module": "@jupyter-widgets/base",
            "_view_module_version": "1.2.0",
            "_view_name": "LayoutView",
            "align_content": null,
            "align_items": null,
            "align_self": null,
            "border": null,
            "bottom": null,
            "display": null,
            "flex": null,
            "flex_flow": null,
            "grid_area": null,
            "grid_auto_columns": null,
            "grid_auto_flow": null,
            "grid_auto_rows": null,
            "grid_column": null,
            "grid_gap": null,
            "grid_row": null,
            "grid_template_areas": null,
            "grid_template_columns": null,
            "grid_template_rows": null,
            "height": null,
            "justify_content": null,
            "justify_items": null,
            "left": null,
            "margin": null,
            "max_height": null,
            "max_width": null,
            "min_height": null,
            "min_width": null,
            "object_fit": null,
            "object_position": null,
            "order": null,
            "overflow": null,
            "overflow_x": null,
            "overflow_y": null,
            "padding": null,
            "right": null,
            "top": null,
            "visibility": null,
            "width": null
          }
        },
        "ac19ea725d8f43ea93f0f94468a11182": {
          "model_module": "@jupyter-widgets/base",
          "model_name": "LayoutModel",
          "model_module_version": "1.2.0",
          "state": {
            "_model_module": "@jupyter-widgets/base",
            "_model_module_version": "1.2.0",
            "_model_name": "LayoutModel",
            "_view_count": null,
            "_view_module": "@jupyter-widgets/base",
            "_view_module_version": "1.2.0",
            "_view_name": "LayoutView",
            "align_content": null,
            "align_items": null,
            "align_self": null,
            "border": null,
            "bottom": null,
            "display": null,
            "flex": null,
            "flex_flow": null,
            "grid_area": null,
            "grid_auto_columns": null,
            "grid_auto_flow": null,
            "grid_auto_rows": null,
            "grid_column": null,
            "grid_gap": null,
            "grid_row": null,
            "grid_template_areas": null,
            "grid_template_columns": null,
            "grid_template_rows": null,
            "height": null,
            "justify_content": null,
            "justify_items": null,
            "left": null,
            "margin": null,
            "max_height": null,
            "max_width": null,
            "min_height": null,
            "min_width": null,
            "object_fit": null,
            "object_position": null,
            "order": null,
            "overflow": null,
            "overflow_x": null,
            "overflow_y": null,
            "padding": null,
            "right": null,
            "top": null,
            "visibility": null,
            "width": null
          }
        },
        "fab3133e8fd643c4901772721a72b466": {
          "model_module": "@jupyter-widgets/controls",
          "model_name": "DescriptionStyleModel",
          "model_module_version": "1.5.0",
          "state": {
            "_model_module": "@jupyter-widgets/controls",
            "_model_module_version": "1.5.0",
            "_model_name": "DescriptionStyleModel",
            "_view_count": null,
            "_view_module": "@jupyter-widgets/base",
            "_view_module_version": "1.2.0",
            "_view_name": "StyleView",
            "description_width": ""
          }
        },
        "836cc921460040c9982dbb25b8be47f4": {
          "model_module": "@jupyter-widgets/base",
          "model_name": "LayoutModel",
          "model_module_version": "1.2.0",
          "state": {
            "_model_module": "@jupyter-widgets/base",
            "_model_module_version": "1.2.0",
            "_model_name": "LayoutModel",
            "_view_count": null,
            "_view_module": "@jupyter-widgets/base",
            "_view_module_version": "1.2.0",
            "_view_name": "LayoutView",
            "align_content": null,
            "align_items": null,
            "align_self": null,
            "border": null,
            "bottom": null,
            "display": null,
            "flex": null,
            "flex_flow": null,
            "grid_area": null,
            "grid_auto_columns": null,
            "grid_auto_flow": null,
            "grid_auto_rows": null,
            "grid_column": null,
            "grid_gap": null,
            "grid_row": null,
            "grid_template_areas": null,
            "grid_template_columns": null,
            "grid_template_rows": null,
            "height": null,
            "justify_content": null,
            "justify_items": null,
            "left": null,
            "margin": null,
            "max_height": null,
            "max_width": null,
            "min_height": null,
            "min_width": null,
            "object_fit": null,
            "object_position": null,
            "order": null,
            "overflow": null,
            "overflow_x": null,
            "overflow_y": null,
            "padding": null,
            "right": null,
            "top": null,
            "visibility": null,
            "width": null
          }
        },
        "5aa001589c4641478bbffce13e44c80d": {
          "model_module": "@jupyter-widgets/controls",
          "model_name": "ProgressStyleModel",
          "model_module_version": "1.5.0",
          "state": {
            "_model_module": "@jupyter-widgets/controls",
            "_model_module_version": "1.5.0",
            "_model_name": "ProgressStyleModel",
            "_view_count": null,
            "_view_module": "@jupyter-widgets/base",
            "_view_module_version": "1.2.0",
            "_view_name": "StyleView",
            "bar_color": null,
            "description_width": ""
          }
        },
        "9838fb53fc32465794e2e5301f21b4f9": {
          "model_module": "@jupyter-widgets/base",
          "model_name": "LayoutModel",
          "model_module_version": "1.2.0",
          "state": {
            "_model_module": "@jupyter-widgets/base",
            "_model_module_version": "1.2.0",
            "_model_name": "LayoutModel",
            "_view_count": null,
            "_view_module": "@jupyter-widgets/base",
            "_view_module_version": "1.2.0",
            "_view_name": "LayoutView",
            "align_content": null,
            "align_items": null,
            "align_self": null,
            "border": null,
            "bottom": null,
            "display": null,
            "flex": null,
            "flex_flow": null,
            "grid_area": null,
            "grid_auto_columns": null,
            "grid_auto_flow": null,
            "grid_auto_rows": null,
            "grid_column": null,
            "grid_gap": null,
            "grid_row": null,
            "grid_template_areas": null,
            "grid_template_columns": null,
            "grid_template_rows": null,
            "height": null,
            "justify_content": null,
            "justify_items": null,
            "left": null,
            "margin": null,
            "max_height": null,
            "max_width": null,
            "min_height": null,
            "min_width": null,
            "object_fit": null,
            "object_position": null,
            "order": null,
            "overflow": null,
            "overflow_x": null,
            "overflow_y": null,
            "padding": null,
            "right": null,
            "top": null,
            "visibility": null,
            "width": null
          }
        },
        "70af3636f145476897137d3ead732655": {
          "model_module": "@jupyter-widgets/controls",
          "model_name": "DescriptionStyleModel",
          "model_module_version": "1.5.0",
          "state": {
            "_model_module": "@jupyter-widgets/controls",
            "_model_module_version": "1.5.0",
            "_model_name": "DescriptionStyleModel",
            "_view_count": null,
            "_view_module": "@jupyter-widgets/base",
            "_view_module_version": "1.2.0",
            "_view_name": "StyleView",
            "description_width": ""
          }
        }
      }
    },
    "accelerator": "GPU"
  },
  "nbformat": 4,
  "nbformat_minor": 0
}